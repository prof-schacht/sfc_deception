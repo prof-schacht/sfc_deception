{
 "cells": [
  {
   "cell_type": "code",
   "execution_count": 1,
   "metadata": {},
   "outputs": [
    {
     "name": "stdout",
     "output_type": "stream",
     "text": [
      "Device: cuda:2\n"
     ]
    }
   ],
   "source": [
    "try:\n",
    "    import google.colab # type: ignore\n",
    "    from google.colab import output\n",
    "    COLAB = True\n",
    "    %pip install sae-lens transformer-lens\n",
    "except:\n",
    "    COLAB = False\n",
    "    from IPython import get_ipython # type: ignore\n",
    "    ipython = get_ipython(); assert ipython is not None\n",
    "    ipython.run_line_magic(\"load_ext\", \"autoreload\")\n",
    "    ipython.run_line_magic(\"autoreload\", \"2\")\n",
    "\n",
    "# Standard imports\n",
    "import os\n",
    "import torch\n",
    "import numpy as np\n",
    "from tqdm import tqdm\n",
    "import plotly.express as px\n",
    "import pandas as pd\n",
    "import einops\n",
    "from jaxtyping import Float, Int\n",
    "from torch import Tensor\n",
    "\n",
    "torch.set_grad_enabled(False)\n",
    "\n",
    "# Device setup\n",
    "GPU_TO_USE = 2\n",
    "\n",
    "if torch.backends.mps.is_available():\n",
    "    device = \"mps\"\n",
    "else:\n",
    "    device = f\"cuda:{GPU_TO_USE}\" if torch.cuda.is_available() else \"cpu\"\n",
    "\n",
    "print(f\"Device: {device}\")\n",
    "\n",
    "# utility to clear variables out of the memory & and clearing cuda cache\n",
    "import gc\n",
    "def clear_cache():\n",
    "    gc.collect()\n",
    "    torch.cuda.empty_cache()"
   ]
  },
  {
   "cell_type": "code",
   "execution_count": 2,
   "metadata": {},
   "outputs": [
    {
     "data": {
      "text/plain": [
       "PosixPath('data')"
      ]
     },
     "execution_count": 2,
     "metadata": {},
     "output_type": "execute_result"
    }
   ],
   "source": [
    "from pathlib import Path\n",
    "\n",
    "def get_data_path(data_folder, in_colab=COLAB):\n",
    "  if in_colab:\n",
    "    from google.colab import drive\n",
    "    drive.mount('/content/drive')\n",
    "\n",
    "    return Path(f'/content/drive/MyDrive/{data_folder}')\n",
    "  else:\n",
    "    return Path(f'./{data_folder}')\n",
    "  \n",
    "datapath = get_data_path('./data')\n",
    "datapath"
   ]
  },
  {
   "cell_type": "code",
   "execution_count": 3,
   "metadata": {},
   "outputs": [],
   "source": [
    "import sys\n",
    "import os\n",
    "\n",
    "# Add the parent directory (sfc_deception) to sys.path\n",
    "sys.path.append(os.path.abspath(os.path.join('..')))"
   ]
  },
  {
   "cell_type": "code",
   "execution_count": 4,
   "metadata": {},
   "outputs": [
    {
     "name": "stderr",
     "output_type": "stream",
     "text": [
      "WARNING:root:You tried to specify center_unembed=True for a model using logit softcap, but this can't be done! Softcapping is not invariant upon adding a constantSetting center_unembed=False instead.\n"
     ]
    },
    {
     "name": "stdout",
     "output_type": "stream",
     "text": [
      "Using gemma-2-9b-it\n"
     ]
    },
    {
     "data": {
      "application/vnd.jupyter.widget-view+json": {
       "model_id": "2cdc64cc9fcb4ab18160b055de1c6ef0",
       "version_major": 2,
       "version_minor": 0
      },
      "text/plain": [
       "Loading checkpoint shards:   0%|          | 0/4 [00:00<?, ?it/s]"
      ]
     },
     "metadata": {},
     "output_type": "display_data"
    },
    {
     "name": "stderr",
     "output_type": "stream",
     "text": [
      "WARNING:root:With reduced precision, it is advised to use `from_pretrained_no_processing` instead of `from_pretrained`.\n",
      "WARNING:root:You are not using LayerNorm, so the writing weights can't be centered! Skipping\n"
     ]
    },
    {
     "name": "stdout",
     "output_type": "stream",
     "text": [
      "Loaded pretrained model gemma-2-9b-it into HookedTransformer\n"
     ]
    },
    {
     "data": {
      "text/plain": [
       "HookedSAETransformer(\n",
       "  (embed): Embed()\n",
       "  (hook_embed): HookPoint()\n",
       "  (blocks): ModuleList(\n",
       "    (0-41): 42 x TransformerBlock(\n",
       "      (ln1): RMSNormPre(\n",
       "        (hook_scale): HookPoint()\n",
       "        (hook_normalized): HookPoint()\n",
       "      )\n",
       "      (ln1_post): RMSNorm(\n",
       "        (hook_scale): HookPoint()\n",
       "        (hook_normalized): HookPoint()\n",
       "      )\n",
       "      (ln2): RMSNormPre(\n",
       "        (hook_scale): HookPoint()\n",
       "        (hook_normalized): HookPoint()\n",
       "      )\n",
       "      (ln2_post): RMSNorm(\n",
       "        (hook_scale): HookPoint()\n",
       "        (hook_normalized): HookPoint()\n",
       "      )\n",
       "      (attn): GroupedQueryAttention(\n",
       "        (hook_k): HookPoint()\n",
       "        (hook_q): HookPoint()\n",
       "        (hook_v): HookPoint()\n",
       "        (hook_z): HookPoint()\n",
       "        (hook_attn_scores): HookPoint()\n",
       "        (hook_pattern): HookPoint()\n",
       "        (hook_result): HookPoint()\n",
       "        (hook_rot_k): HookPoint()\n",
       "        (hook_rot_q): HookPoint()\n",
       "      )\n",
       "      (mlp): GatedMLP(\n",
       "        (hook_pre): HookPoint()\n",
       "        (hook_pre_linear): HookPoint()\n",
       "        (hook_post): HookPoint()\n",
       "      )\n",
       "      (hook_attn_in): HookPoint()\n",
       "      (hook_q_input): HookPoint()\n",
       "      (hook_k_input): HookPoint()\n",
       "      (hook_v_input): HookPoint()\n",
       "      (hook_mlp_in): HookPoint()\n",
       "      (hook_attn_out): HookPoint()\n",
       "      (hook_mlp_out): HookPoint()\n",
       "      (hook_resid_pre): HookPoint()\n",
       "      (hook_resid_mid): HookPoint()\n",
       "      (hook_resid_post): HookPoint()\n",
       "    )\n",
       "  )\n",
       "  (ln_final): RMSNormPre(\n",
       "    (hook_scale): HookPoint()\n",
       "    (hook_normalized): HookPoint()\n",
       "  )\n",
       "  (unembed): Unembed()\n",
       ")"
      ]
     },
     "execution_count": 4,
     "metadata": {},
     "output_type": "execute_result"
    }
   ],
   "source": [
    "from sae_lens import SAE, HookedSAETransformer, ActivationsStore\n",
    "\n",
    "USE_INSTRUCT = True\n",
    "PARAMS_COUNT = 9\n",
    "\n",
    "MODEL_NAME = f'gemma-2-{PARAMS_COUNT}b' + ('-it' if USE_INSTRUCT else '')\n",
    "print(f'Using {MODEL_NAME}')\n",
    "\n",
    "model = HookedSAETransformer.from_pretrained(MODEL_NAME, device=device, dtype=torch.bfloat16)\n",
    "model"
   ]
  },
  {
   "cell_type": "markdown",
   "metadata": {},
   "source": [
    "## Loading the data"
   ]
  },
  {
   "cell_type": "code",
   "execution_count": 5,
   "metadata": {},
   "outputs": [],
   "source": [
    "from classes.sfc_data_loader import SFCDatasetLoader\n",
    "import utils.prompts as prompts\n",
    "from utils.enums import *"
   ]
  },
  {
   "cell_type": "code",
   "execution_count": 6,
   "metadata": {},
   "outputs": [],
   "source": [
    "DATASET_NAME = SupportedDatasets.COMMONSENSE_QA_FILTERED\n",
    "CHOOSE_N_SAMPLES = 400\n",
    "\n",
    "if DATASET_NAME in [SupportedDatasets.CITIES, SupportedDatasets.FACTS, SupportedDatasets.COMPANIES]:\n",
    "    dataloader = SFCDatasetLoader(DATASET_NAME, model, \n",
    "                                  clean_system_prompt=prompts.TRUTH_OR_USER_KILLED,\n",
    "                                  corrupted_system_prompt=prompts.LIE_OR_USER_KILLED,\n",
    "                                  task_prompt=prompts.ANSWER_TRUE_FALSE,\n",
    "                                  local_dataset=True, base_folder_path=datapath,\n",
    "                                  )\n",
    "elif DATASET_NAME in [SupportedDatasets.COMMONSENSE_QA, SupportedDatasets.COMMONSENSE_QA_FILTERED]:\n",
    "    dataloader = SFCDatasetLoader(DATASET_NAME, model, \n",
    "                                clean_system_prompt=prompts.TRUTH_OR_USER_KILLED,\n",
    "                                corrupted_system_prompt=prompts.LIE_OR_USER_KILLED,\n",
    "                                task_prompt=prompts.OUTPUT_SINGLE_LETTER,\n",
    "                                num_samples=CHOOSE_N_SAMPLES)\n",
    "elif DATASET_NAME in [SupportedDatasets.VERB_AGREEMENT]:\n",
    "    dataloader = SFCDatasetLoader(DATASET_NAME, model,\n",
    "                                  local_dataset=True, base_folder_path=datapath)\n",
    "else:\n",
    "    raise ValueError(f\"Dataset {DATASET_NAME.value} is not supported\")"
   ]
  },
  {
   "cell_type": "code",
   "execution_count": 7,
   "metadata": {},
   "outputs": [
    {
     "name": "stdout",
     "output_type": "stream",
     "text": [
      "Figuring out optimal padding length...\n",
      "Filtered out 4 longest prompts from a total of 400 prompts.\n",
      "Setting max prompt length to 171\n"
     ]
    },
    {
     "name": "stderr",
     "output_type": "stream",
     "text": [
      "100%|██████████| 396/396 [00:00<00:00, 442.98it/s]\n"
     ]
    }
   ],
   "source": [
    "if DATASET_NAME in [SupportedDatasets.VERB_AGREEMENT]:\n",
    "    clean_dataset, corrupted_dataset = dataloader.get_clean_corrupted_datasets(tokenize=True, apply_chat_template=False, prepend_generation_prefix=True)\n",
    "else:\n",
    "    clean_dataset, corrupted_dataset = dataloader.get_clean_corrupted_datasets(tokenize=True, apply_chat_template=True, prepend_generation_prefix=True)"
   ]
  },
  {
   "cell_type": "code",
   "execution_count": 8,
   "metadata": {},
   "outputs": [
    {
     "data": {
      "text/plain": [
       "(4, 171)"
      ]
     },
     "execution_count": 8,
     "metadata": {},
     "output_type": "execute_result"
    }
   ],
   "source": [
    "CONTROL_SEQ_LEN = clean_dataset['control_sequence_length'][0].item()\n",
    "N_CONTEXT = clean_dataset['prompt'].shape[1]\n",
    "\n",
    "CONTROL_SEQ_LEN, N_CONTEXT"
   ]
  },
  {
   "cell_type": "code",
   "execution_count": 9,
   "metadata": {},
   "outputs": [],
   "source": [
    "def sample_dataset(start_idx=0, end_idx=-1, clean_dataset=None, corrupted_dataset=None):\n",
    "    assert clean_dataset is not None or corrupted_dataset is not None, 'At least one dataset must be provided.'\n",
    "    return_values = []\n",
    "\n",
    "    for key in ['prompt', 'answer', 'answer_pos', 'attention_mask', 'special_token_mask']:\n",
    "        if clean_dataset is not None:\n",
    "            return_values.append(clean_dataset[key][start_idx:end_idx])\n",
    "        if corrupted_dataset is not None:\n",
    "            return_values.append(corrupted_dataset[key][start_idx:end_idx])\n",
    "\n",
    "    return return_values"
   ]
  },
  {
   "cell_type": "markdown",
   "metadata": {},
   "source": [
    "## Ablation utils"
   ]
  },
  {
   "cell_type": "code",
   "execution_count": 10,
   "metadata": {},
   "outputs": [],
   "source": [
    "def get_answer_logit(logits: Float[Tensor, \"batch pos d_vocab\"], \n",
    "                     clean_answers: Int[Tensor, \"batch\"],\n",
    "                     ansnwer_pos: Int[Tensor, \"batch\"], return_all_logits=False) -> Float[Tensor, \"batch\"]:\n",
    "\n",
    "    answer_pos_idx = einops.repeat(ansnwer_pos, 'batch -> batch 1 d_vocab',\n",
    "                                   d_vocab=logits.shape[-1])\n",
    "    answer_logits = logits.gather(1, answer_pos_idx).squeeze(1) # shape [batch, d_vocab]\n",
    "\n",
    "    correct_logits = answer_logits.gather(1, clean_answers.unsqueeze(1)).squeeze(1) # shape [batch]\n",
    "\n",
    "    if return_all_logits:\n",
    "        return answer_logits, correct_logits\n",
    "\n",
    "    return correct_logits\n",
    "\n",
    "def get_incorrect_logits(logits: Float[Tensor, \"batch pos d_vocab\"],\n",
    "                         patched_answers: Int[Tensor, \"batch count\"],\n",
    "                         answer_pos: Int[Tensor, \"batch\"], patch_answer_reduce='max') -> Float[Tensor, \"batch\"]:\n",
    "    \n",
    "    answer_pos_idx = einops.repeat(answer_pos, 'batch -> batch 1 d_vocab',\n",
    "                                   d_vocab=logits.shape[-1])\n",
    "    answer_logits = logits.gather(1, answer_pos_idx).squeeze(1) # shape [batch, d_vocab]\n",
    "\n",
    "    incorrect_logits = answer_logits.gather(1, patched_answers)  # shape [batch, answer_count]\n",
    "\n",
    "    # Sum the logits for each incorrect answer option\n",
    "    if patch_answer_reduce == 'sum':\n",
    "        incorrect_logits = incorrect_logits.sum(dim=1)\n",
    "    # Or take their maximum: this should be a better option to avoid situations where the model outputs gibberish and all the answers have similar logits\n",
    "    elif patch_answer_reduce == 'max':\n",
    "        incorrect_logits = incorrect_logits.max(dim=1).values\n",
    "\n",
    "    return incorrect_logits"
   ]
  },
  {
   "cell_type": "code",
   "execution_count": 11,
   "metadata": {},
   "outputs": [],
   "source": [
    "def ablate_hook(act, hook):\n",
    "    act[:] = 0\n",
    "    return act\n",
    "\n",
    "# Define a function to run ablation analysis\n",
    "def run_ablation_batch_analysis(\n",
    "    batch_size=64,\n",
    "    hook_types: list[str] = [\"hook_mlp_out\", \"attn.hook_z\"],\n",
    "    n_layers = model.cfg.n_layers,\n",
    "    model=model,\n",
    "    clean_dataset=clean_dataset,\n",
    "    corrupted_dataset=corrupted_dataset,\n",
    "    clean_prompt_run=True,\n",
    "):\n",
    "    num_samples = len(clean_dataset['prompt']) # [batch_size, seq_len]\n",
    "    total_batches = num_samples // batch_size\n",
    "\n",
    "    if num_samples % batch_size != 0:\n",
    "        total_batches += 1\n",
    "\n",
    "    # For each hook type, the differences tensor will contain 2 elements for each layer:\n",
    "    # difference in the correct logit and difference in the max incorrect logit\n",
    "    differences_dict = {hook: torch.zeros(n_layers, 2, device=model.cfg.device) for hook in hook_types}\n",
    "    \n",
    "    for i in tqdm(range(0, num_samples, batch_size)):\n",
    "        clean_prompts, corrupted_prompts, clean_answers, corrupted_answers, clean_answers_pos, corrupted_answers_pos, \\\n",
    "        clean_attn_mask, corrupted_attn_mask, clean_special_mask, corr_special_mask = sample_dataset(i, i + batch_size, clean_dataset, corrupted_dataset)\n",
    "        if clean_prompt_run:\n",
    "            prompts = clean_prompts\n",
    "            answers_pos = clean_answers_pos\n",
    "            attn_mask = clean_attn_mask\n",
    "        else:\n",
    "            prompts = corrupted_prompts\n",
    "            answers_pos = corrupted_answers_pos\n",
    "            attn_mask = corrupted_attn_mask\n",
    "\n",
    "        # Get baseline logits\n",
    "        baseline_logits = model(prompts, attention_mask=attn_mask)  # [batch_size, seq_len, n_tokens]\n",
    "\n",
    "        baseline_correct_logits = get_answer_logit(baseline_logits, clean_answers, answers_pos)\n",
    "        baseline_incorrect_logits = get_incorrect_logits(baseline_logits, corrupted_answers, answers_pos)\n",
    "\n",
    "        print(f'Mean incorrect - correct difference: {baseline_incorrect_logits.mean() - baseline_correct_logits.mean()}')\n",
    "\n",
    "        clear_cache()\n",
    "        # Run ablations for each layer and hook type\n",
    "        for layer in tqdm(range(n_layers)):\n",
    "            for hook_type in hook_types:\n",
    "                hook_name = f\"blocks.{layer}.{hook_type}\"\n",
    "\n",
    "                ablated_logits = model.run_with_hooks(prompts, attention_mask=attn_mask, \n",
    "                                                     fwd_hooks=[(hook_name, ablate_hook)]  # [batch_size, seq_len, n_tokens]\n",
    "                                                     )   # [batch_size, seq_len, n_tokens]\n",
    "                \n",
    "                ablated_correct_logits = get_answer_logit(ablated_logits, clean_answers, answers_pos)\n",
    "                ablated_incorrect_logits = get_incorrect_logits(ablated_logits, corrupted_answers, answers_pos)\n",
    "                \n",
    "                # Calculate differences from baseline\n",
    "                correct_logit_dif = baseline_correct_logits - ablated_correct_logits  # [batch_size, seq_len, n_tokens]\n",
    "                incorrect_logit_dif = baseline_incorrect_logits - ablated_incorrect_logits  # [batch_size, seq_len, n_tokens]\n",
    "\n",
    "                # Store the mean difference over the batch\n",
    "                differences_dict[hook_type][layer, 0] += correct_logit_dif.mean()\n",
    "                differences_dict[hook_type][layer, 1] += incorrect_logit_dif.mean()\n",
    "            clear_cache()\n",
    "\n",
    "    # Finally, compute the mean over the outer batches\n",
    "    for hook_type in hook_types:\n",
    "        differences_dict[hook_type] /= total_batches\n",
    "\n",
    "    return differences_dict"
   ]
  },
  {
   "cell_type": "markdown",
   "metadata": {},
   "source": [
    "## Ablation analysis"
   ]
  },
  {
   "cell_type": "code",
   "execution_count": 12,
   "metadata": {},
   "outputs": [],
   "source": [
    "N_LAYERS = model.cfg.n_layers\n",
    "BATCH_SIZE = 87\n",
    "HOOK_TYPES = [\"hook_mlp_out\", \"attn.hook_z\"]\n",
    "\n",
    "clear_cache()"
   ]
  },
  {
   "cell_type": "markdown",
   "metadata": {},
   "source": [
    "### Clean prompts"
   ]
  },
  {
   "cell_type": "code",
   "execution_count": 13,
   "metadata": {},
   "outputs": [
    {
     "name": "stderr",
     "output_type": "stream",
     "text": [
      "  0%|          | 0/5 [00:00<?, ?it/s]"
     ]
    },
    {
     "name": "stdout",
     "output_type": "stream",
     "text": [
      "Mean incorrect - correct difference: -4.75\n"
     ]
    },
    {
     "name": "stderr",
     "output_type": "stream",
     "text": [
      "100%|██████████| 42/42 [01:57<00:00,  2.79s/it]\n",
      " 20%|██        | 1/5 [01:59<07:56, 119.03s/it]"
     ]
    },
    {
     "name": "stdout",
     "output_type": "stream",
     "text": [
      "Mean incorrect - correct difference: -4.625\n"
     ]
    },
    {
     "name": "stderr",
     "output_type": "stream",
     "text": [
      "100%|██████████| 42/42 [01:58<00:00,  2.83s/it]\n",
      " 40%|████      | 2/5 [03:59<05:59, 119.89s/it]"
     ]
    },
    {
     "name": "stdout",
     "output_type": "stream",
     "text": [
      "Mean incorrect - correct difference: -4.75\n"
     ]
    },
    {
     "name": "stderr",
     "output_type": "stream",
     "text": [
      "100%|██████████| 42/42 [01:59<00:00,  2.84s/it]\n",
      " 60%|██████    | 3/5 [06:00<04:00, 120.32s/it]"
     ]
    },
    {
     "name": "stdout",
     "output_type": "stream",
     "text": [
      "Mean incorrect - correct difference: -5.75\n"
     ]
    },
    {
     "name": "stderr",
     "output_type": "stream",
     "text": [
      "100%|██████████| 42/42 [01:59<00:00,  2.84s/it]\n",
      " 80%|████████  | 4/5 [08:01<02:00, 120.50s/it]"
     ]
    },
    {
     "name": "stdout",
     "output_type": "stream",
     "text": [
      "Mean incorrect - correct difference: -5.75\n"
     ]
    },
    {
     "name": "stderr",
     "output_type": "stream",
     "text": [
      "100%|██████████| 42/42 [01:09<00:00,  1.65s/it]\n",
      "100%|██████████| 5/5 [09:11<00:00, 110.26s/it]\n"
     ]
    },
    {
     "data": {
      "text/plain": [
       "torch.Size([42, 2])"
      ]
     },
     "execution_count": 13,
     "metadata": {},
     "output_type": "execute_result"
    }
   ],
   "source": [
    "ablation_difs_dict = run_ablation_batch_analysis(batch_size=BATCH_SIZE, n_layers=N_LAYERS)\n",
    "ablation_difs_dict['hook_mlp_out'].shape"
   ]
  },
  {
   "cell_type": "code",
   "execution_count": 14,
   "metadata": {},
   "outputs": [
    {
     "data": {
      "text/plain": [
       "{'layer': 0,\n",
       " 'hook_type': 'hook_mlp_out',\n",
       " 'logit_diffs': array([ 0.31054688, -0.56328124], dtype=float32)}"
      ]
     },
     "execution_count": 14,
     "metadata": {},
     "output_type": "execute_result"
    }
   ],
   "source": [
    "results = []\n",
    "\n",
    "for hook_type in HOOK_TYPES:\n",
    "    for layer in range(N_LAYERS):\n",
    "        result = {\n",
    "            'layer': layer,\n",
    "            'hook_type': hook_type,\n",
    "            'logit_diffs': ablation_difs_dict[hook_type][layer].cpu().numpy(),\n",
    "        }\n",
    "        results.append(result)\n",
    "\n",
    "results[0]"
   ]
  },
  {
   "cell_type": "code",
   "execution_count": 17,
   "metadata": {},
   "outputs": [],
   "source": [
    "import plotly.graph_objects as go\n",
    "from plotly.subplots import make_subplots\n",
    "\n",
    "def plot_logit_diffs(data, title_suffix=\"\"):\n",
    "    # Group by hook_type\n",
    "    grouped_data = {}\n",
    "    for entry in data:\n",
    "        hook_type = entry['hook_type']\n",
    "        if hook_type not in grouped_data:\n",
    "            grouped_data[hook_type] = []\n",
    "        grouped_data[hook_type].append(entry)\n",
    "\n",
    "    # Define color scheme for consistency\n",
    "    correct_color = 'blue'\n",
    "    incorrect_color = 'red'\n",
    "\n",
    "    # Create subplots without shared x-axes\n",
    "    fig = make_subplots(\n",
    "        rows=2, cols=1,\n",
    "        shared_xaxes=False,  # Disable shared x-axes\n",
    "        subplot_titles=(\n",
    "            \"hook_mlp_out Logit Differences\",\n",
    "            \"attn.hook_z Logit Differences\"\n",
    "        )\n",
    "    )\n",
    "\n",
    "    # Plot for hook_type = 'hook_mlp_out'\n",
    "    if 'hook_mlp_out' in grouped_data:\n",
    "        layers = [entry['layer'] for entry in grouped_data['hook_mlp_out']]\n",
    "        logit_diffs_correct = [entry['logit_diffs'][0] for entry in grouped_data['hook_mlp_out']]\n",
    "        logit_diffs_incorrect = [entry['logit_diffs'][1] for entry in grouped_data['hook_mlp_out']]\n",
    "\n",
    "        fig.add_trace(\n",
    "            go.Bar(\n",
    "                name=\"Correct Answer Logit-Dif\",\n",
    "                x=layers,\n",
    "                y=logit_diffs_correct,\n",
    "                marker_color=correct_color  # Apply consistent color\n",
    "            ),\n",
    "            row=1, col=1\n",
    "        )\n",
    "        fig.add_trace(\n",
    "            go.Bar(\n",
    "                name=\"Max(Incorrect) Answer Logit-Dif\",\n",
    "                x=layers,\n",
    "                y=logit_diffs_incorrect,\n",
    "                marker_color=incorrect_color  # Apply consistent color\n",
    "            ),\n",
    "            row=1, col=1\n",
    "        )\n",
    "\n",
    "    # Plot for hook_type = 'attn.hook_z'\n",
    "    if 'attn.hook_z' in grouped_data:\n",
    "        layers = [entry['layer'] for entry in grouped_data['attn.hook_z']]\n",
    "        logit_diffs_correct = [entry['logit_diffs'][0] for entry in grouped_data['attn.hook_z']]\n",
    "        logit_diffs_incorrect = [entry['logit_diffs'][1] for entry in grouped_data['attn.hook_z']]\n",
    "\n",
    "        fig.add_trace(\n",
    "            go.Bar(\n",
    "                name=\"Correct Answer Logit-Dif\",\n",
    "                x=layers,\n",
    "                y=logit_diffs_correct,\n",
    "                marker_color=correct_color,  # Consistent color\n",
    "                showlegend=False  # Hide duplicate legend entry\n",
    "            ),\n",
    "            row=2, col=1\n",
    "        )\n",
    "        fig.add_trace(\n",
    "            go.Bar(\n",
    "                name=\"Max(Incorrect) Answer Logit-Dif\",\n",
    "                x=layers,\n",
    "                y=logit_diffs_incorrect,\n",
    "                marker_color=incorrect_color,  # Consistent color\n",
    "                showlegend=False  # Hide duplicate legend entry\n",
    "            ),\n",
    "            row=2, col=1\n",
    "        )\n",
    "\n",
    "    # Update layout\n",
    "    fig.update_layout(\n",
    "        height=800,  # Adjusted height for visibility\n",
    "        width=1400,\n",
    "        title_text=f\"Ablation logit differences: {title_suffix}\",\n",
    "        barmode='group'  # Group bars side by side for comparison\n",
    "    )\n",
    "\n",
    "    # Update x-axes to show all layer ticks and add x-axis labels\n",
    "    # For the first subplot\n",
    "    fig.update_xaxes(\n",
    "        title_text=\"Layer\",\n",
    "        tickmode='linear',\n",
    "        dtick=1,  # Show every tick\n",
    "        row=1, col=1\n",
    "    )\n",
    "\n",
    "    # For the second subplot\n",
    "    fig.update_xaxes(\n",
    "        title_text=\"Layer\",\n",
    "        tickmode='linear',\n",
    "        dtick=1,  # Show every tick\n",
    "        row=2, col=1\n",
    "    )\n",
    "\n",
    "    # Update y-axes titles\n",
    "    fig.update_yaxes(title_text=\"Logit Difference<br>(Baseline - Ablated)\", row=1, col=1)\n",
    "    fig.update_yaxes(title_text=\"Logit Difference<br>(Baseline - Ablated)\", row=2, col=1)\n",
    "\n",
    "    # Optionally, adjust the range of x-axes if layers are from 1 to 42\n",
    "    fig.update_xaxes(range=[1, N_LAYERS], row=1, col=1)\n",
    "    fig.update_xaxes(range=[1, N_LAYERS], row=2, col=1)\n",
    "\n",
    "    # Display the figure\n",
    "    fig.show()\n",
    "    html_name = title_suffix.replace(\" \", \"_\")\n",
    "    fig.write_html(f'ablation_{html_name}.html')\n"
   ]
  },
  {
   "cell_type": "code",
   "execution_count": 18,
   "metadata": {},
   "outputs": [
    {
     "data": {
      "application/vnd.plotly.v1+json": {
       "config": {
        "plotlyServerURL": "https://plot.ly"
       },
       "data": [
        {
         "marker": {
          "color": "blue"
         },
         "name": "Correct Answer Logit-Dif",
         "type": "bar",
         "x": [
          0,
          1,
          2,
          3,
          4,
          5,
          6,
          7,
          8,
          9,
          10,
          11,
          12,
          13,
          14,
          15,
          16,
          17,
          18,
          19,
          20,
          21,
          22,
          23,
          24,
          25,
          26,
          27,
          28,
          29,
          30,
          31,
          32,
          33,
          34,
          35,
          36,
          37,
          38,
          39,
          40,
          41
         ],
         "xaxis": "x",
         "y": [
          0.310546875,
          0.0016601562965661287,
          0.31328126788139343,
          0.11870117485523224,
          0.3578124940395355,
          -0.06625976413488388,
          -0.09202881157398224,
          0.2548828125,
          0.23932190239429474,
          0.0032226562034338713,
          0.42851564288139343,
          -0.19277344644069672,
          -0.234375,
          0.03227538987994194,
          -0.13447265326976776,
          0.6187500357627869,
          -0.03461303934454918,
          0.13886718451976776,
          -0.18349610269069672,
          0.19765625894069672,
          0.44257813692092896,
          0.4292968809604645,
          -0.02272949181497097,
          0.18193359673023224,
          0.02021484449505806,
          0.001220703125,
          -0.11054687947034836,
          -0.0073608397506177425,
          -0.17519532144069672,
          -0.01105346716940403,
          -0.02224121056497097,
          -0.19882813096046448,
          0.0972137451171875,
          -0.22617188096046448,
          -0.21113280951976776,
          -0.14765624701976776,
          -0.275390625,
          0.707812488079071,
          0.3687500059604645,
          0.02501220814883709,
          0.3128906190395355,
          -2.625
         ],
         "yaxis": "y"
        },
        {
         "marker": {
          "color": "red"
         },
         "name": "Max(Incorrect) Answer Logit-Dif",
         "type": "bar",
         "x": [
          0,
          1,
          2,
          3,
          4,
          5,
          6,
          7,
          8,
          9,
          10,
          11,
          12,
          13,
          14,
          15,
          16,
          17,
          18,
          19,
          20,
          21,
          22,
          23,
          24,
          25,
          26,
          27,
          28,
          29,
          30,
          31,
          32,
          33,
          34,
          35,
          36,
          37,
          38,
          39,
          40,
          41
         ],
         "xaxis": "x",
         "y": [
          -0.563281238079071,
          -0.10518798977136612,
          -0.8414062857627869,
          -0.08430176228284836,
          -0.6937500238418579,
          0.22055664658546448,
          0.35107421875,
          -0.43281251192092896,
          -0.3267578184604645,
          0.3773437440395355,
          -0.9609375,
          0.5564941763877869,
          0.4208984375,
          -0.2763671875,
          0.23300781846046448,
          -1.6203125715255737,
          0.22236327826976776,
          -0.10996093600988388,
          0.52734375,
          -0.901562511920929,
          -1.6640625,
          -0.39531251788139343,
          -0.75,
          -1.2765625715255737,
          -0.6039062738418579,
          -0.6640625,
          -0.850781261920929,
          0.11962890625,
          0.203125,
          -0.2119140625,
          -0.16093750298023224,
          -0.2855468690395355,
          -0.103515625,
          -0.1669921875,
          -0.09541016072034836,
          -0.03115234337747097,
          -0.3304687440395355,
          0.03359375149011612,
          -0.02436523512005806,
          -0.516796886920929,
          0.38457033038139343,
          -2.3031251430511475
         ],
         "yaxis": "y"
        },
        {
         "marker": {
          "color": "blue"
         },
         "name": "Correct Answer Logit-Dif",
         "showlegend": false,
         "type": "bar",
         "x": [
          0,
          1,
          2,
          3,
          4,
          5,
          6,
          7,
          8,
          9,
          10,
          11,
          12,
          13,
          14,
          15,
          16,
          17,
          18,
          19,
          20,
          21,
          22,
          23,
          24,
          25,
          26,
          27,
          28,
          29,
          30,
          31,
          32,
          33,
          34,
          35,
          36,
          37,
          38,
          39,
          40,
          41
         ],
         "xaxis": "x2",
         "y": [
          0.07841797173023224,
          0.0966796875,
          0.0888671875,
          0.090301513671875,
          0.13227538764476776,
          0.0826416015625,
          0.126953125,
          -0.07723388820886612,
          -0.04877929762005806,
          -0.22060547769069672,
          0.2236328125,
          0.119140625,
          0.03818359598517418,
          0.13508300483226776,
          0.11669921875,
          0.201171875,
          0.17011718451976776,
          -0.00994873046875,
          0.09819336235523224,
          0.03200683742761612,
          -0.10078125447034836,
          0.11263427883386612,
          0.2826171815395355,
          0.02128906361758709,
          0.09156494587659836,
          0.23105469346046448,
          0.1787109375,
          0.11201172322034836,
          0.742968738079071,
          0.19589844346046448,
          -0.10927734524011612,
          0.14306640625,
          -0.044189453125,
          0.04887695237994194,
          -0.12128906697034836,
          0.10078125447034836,
          0.2451171875,
          0.5648437738418579,
          0.17011718451976776,
          0.3628906309604645,
          0.0034881592728197575,
          -1.345312476158142
         ],
         "yaxis": "y2"
        },
        {
         "marker": {
          "color": "red"
         },
         "name": "Max(Incorrect) Answer Logit-Dif",
         "showlegend": false,
         "type": "bar",
         "x": [
          0,
          1,
          2,
          3,
          4,
          5,
          6,
          7,
          8,
          9,
          10,
          11,
          12,
          13,
          14,
          15,
          16,
          17,
          18,
          19,
          20,
          21,
          22,
          23,
          24,
          25,
          26,
          27,
          28,
          29,
          30,
          31,
          32,
          33,
          34,
          35,
          36,
          37,
          38,
          39,
          40,
          41
         ],
         "xaxis": "x2",
         "y": [
          0.20322266221046448,
          -0.02573242224752903,
          0.0419921875,
          0.02750244177877903,
          -0.12521973252296448,
          -0.20839844644069672,
          -0.2618041932582855,
          0.37421876192092896,
          0.0526123046875,
          0.4283203184604645,
          -1.1257812976837158,
          -0.15189209580421448,
          -0.2953124940395355,
          -0.14272461831569672,
          -0.44062501192092896,
          -0.3921875059604645,
          -0.4765625,
          0.3980468809604645,
          -0.27958986163139343,
          0.23796387016773224,
          0.569140613079071,
          -0.24535217881202698,
          -0.18186035752296448,
          -0.8125,
          -0.013745117001235485,
          -0.871874988079071,
          -0.096435546875,
          -2.53125,
          -1.892187476158142,
          0.02724609337747097,
          -0.013208008371293545,
          -0.06187744066119194,
          0.013928222469985485,
          0.0452880859375,
          0.00390625,
          0.11650390923023224,
          0.12060546875,
          0.384765625,
          0.23984375596046448,
          0.11030273884534836,
          -0.10338135063648224,
          -1.2234375476837158
         ],
         "yaxis": "y2"
        }
       ],
       "layout": {
        "annotations": [
         {
          "font": {
           "size": 16
          },
          "showarrow": false,
          "text": "hook_mlp_out Logit Differences",
          "x": 0.5,
          "xanchor": "center",
          "xref": "paper",
          "y": 1,
          "yanchor": "bottom",
          "yref": "paper"
         },
         {
          "font": {
           "size": 16
          },
          "showarrow": false,
          "text": "attn.hook_z Logit Differences",
          "x": 0.5,
          "xanchor": "center",
          "xref": "paper",
          "y": 0.375,
          "yanchor": "bottom",
          "yref": "paper"
         }
        ],
        "barmode": "group",
        "height": 800,
        "template": {
         "data": {
          "bar": [
           {
            "error_x": {
             "color": "#2a3f5f"
            },
            "error_y": {
             "color": "#2a3f5f"
            },
            "marker": {
             "line": {
              "color": "#E5ECF6",
              "width": 0.5
             },
             "pattern": {
              "fillmode": "overlay",
              "size": 10,
              "solidity": 0.2
             }
            },
            "type": "bar"
           }
          ],
          "barpolar": [
           {
            "marker": {
             "line": {
              "color": "#E5ECF6",
              "width": 0.5
             },
             "pattern": {
              "fillmode": "overlay",
              "size": 10,
              "solidity": 0.2
             }
            },
            "type": "barpolar"
           }
          ],
          "carpet": [
           {
            "aaxis": {
             "endlinecolor": "#2a3f5f",
             "gridcolor": "white",
             "linecolor": "white",
             "minorgridcolor": "white",
             "startlinecolor": "#2a3f5f"
            },
            "baxis": {
             "endlinecolor": "#2a3f5f",
             "gridcolor": "white",
             "linecolor": "white",
             "minorgridcolor": "white",
             "startlinecolor": "#2a3f5f"
            },
            "type": "carpet"
           }
          ],
          "choropleth": [
           {
            "colorbar": {
             "outlinewidth": 0,
             "ticks": ""
            },
            "type": "choropleth"
           }
          ],
          "contour": [
           {
            "colorbar": {
             "outlinewidth": 0,
             "ticks": ""
            },
            "colorscale": [
             [
              0,
              "#0d0887"
             ],
             [
              0.1111111111111111,
              "#46039f"
             ],
             [
              0.2222222222222222,
              "#7201a8"
             ],
             [
              0.3333333333333333,
              "#9c179e"
             ],
             [
              0.4444444444444444,
              "#bd3786"
             ],
             [
              0.5555555555555556,
              "#d8576b"
             ],
             [
              0.6666666666666666,
              "#ed7953"
             ],
             [
              0.7777777777777778,
              "#fb9f3a"
             ],
             [
              0.8888888888888888,
              "#fdca26"
             ],
             [
              1,
              "#f0f921"
             ]
            ],
            "type": "contour"
           }
          ],
          "contourcarpet": [
           {
            "colorbar": {
             "outlinewidth": 0,
             "ticks": ""
            },
            "type": "contourcarpet"
           }
          ],
          "heatmap": [
           {
            "colorbar": {
             "outlinewidth": 0,
             "ticks": ""
            },
            "colorscale": [
             [
              0,
              "#0d0887"
             ],
             [
              0.1111111111111111,
              "#46039f"
             ],
             [
              0.2222222222222222,
              "#7201a8"
             ],
             [
              0.3333333333333333,
              "#9c179e"
             ],
             [
              0.4444444444444444,
              "#bd3786"
             ],
             [
              0.5555555555555556,
              "#d8576b"
             ],
             [
              0.6666666666666666,
              "#ed7953"
             ],
             [
              0.7777777777777778,
              "#fb9f3a"
             ],
             [
              0.8888888888888888,
              "#fdca26"
             ],
             [
              1,
              "#f0f921"
             ]
            ],
            "type": "heatmap"
           }
          ],
          "heatmapgl": [
           {
            "colorbar": {
             "outlinewidth": 0,
             "ticks": ""
            },
            "colorscale": [
             [
              0,
              "#0d0887"
             ],
             [
              0.1111111111111111,
              "#46039f"
             ],
             [
              0.2222222222222222,
              "#7201a8"
             ],
             [
              0.3333333333333333,
              "#9c179e"
             ],
             [
              0.4444444444444444,
              "#bd3786"
             ],
             [
              0.5555555555555556,
              "#d8576b"
             ],
             [
              0.6666666666666666,
              "#ed7953"
             ],
             [
              0.7777777777777778,
              "#fb9f3a"
             ],
             [
              0.8888888888888888,
              "#fdca26"
             ],
             [
              1,
              "#f0f921"
             ]
            ],
            "type": "heatmapgl"
           }
          ],
          "histogram": [
           {
            "marker": {
             "pattern": {
              "fillmode": "overlay",
              "size": 10,
              "solidity": 0.2
             }
            },
            "type": "histogram"
           }
          ],
          "histogram2d": [
           {
            "colorbar": {
             "outlinewidth": 0,
             "ticks": ""
            },
            "colorscale": [
             [
              0,
              "#0d0887"
             ],
             [
              0.1111111111111111,
              "#46039f"
             ],
             [
              0.2222222222222222,
              "#7201a8"
             ],
             [
              0.3333333333333333,
              "#9c179e"
             ],
             [
              0.4444444444444444,
              "#bd3786"
             ],
             [
              0.5555555555555556,
              "#d8576b"
             ],
             [
              0.6666666666666666,
              "#ed7953"
             ],
             [
              0.7777777777777778,
              "#fb9f3a"
             ],
             [
              0.8888888888888888,
              "#fdca26"
             ],
             [
              1,
              "#f0f921"
             ]
            ],
            "type": "histogram2d"
           }
          ],
          "histogram2dcontour": [
           {
            "colorbar": {
             "outlinewidth": 0,
             "ticks": ""
            },
            "colorscale": [
             [
              0,
              "#0d0887"
             ],
             [
              0.1111111111111111,
              "#46039f"
             ],
             [
              0.2222222222222222,
              "#7201a8"
             ],
             [
              0.3333333333333333,
              "#9c179e"
             ],
             [
              0.4444444444444444,
              "#bd3786"
             ],
             [
              0.5555555555555556,
              "#d8576b"
             ],
             [
              0.6666666666666666,
              "#ed7953"
             ],
             [
              0.7777777777777778,
              "#fb9f3a"
             ],
             [
              0.8888888888888888,
              "#fdca26"
             ],
             [
              1,
              "#f0f921"
             ]
            ],
            "type": "histogram2dcontour"
           }
          ],
          "mesh3d": [
           {
            "colorbar": {
             "outlinewidth": 0,
             "ticks": ""
            },
            "type": "mesh3d"
           }
          ],
          "parcoords": [
           {
            "line": {
             "colorbar": {
              "outlinewidth": 0,
              "ticks": ""
             }
            },
            "type": "parcoords"
           }
          ],
          "pie": [
           {
            "automargin": true,
            "type": "pie"
           }
          ],
          "scatter": [
           {
            "fillpattern": {
             "fillmode": "overlay",
             "size": 10,
             "solidity": 0.2
            },
            "type": "scatter"
           }
          ],
          "scatter3d": [
           {
            "line": {
             "colorbar": {
              "outlinewidth": 0,
              "ticks": ""
             }
            },
            "marker": {
             "colorbar": {
              "outlinewidth": 0,
              "ticks": ""
             }
            },
            "type": "scatter3d"
           }
          ],
          "scattercarpet": [
           {
            "marker": {
             "colorbar": {
              "outlinewidth": 0,
              "ticks": ""
             }
            },
            "type": "scattercarpet"
           }
          ],
          "scattergeo": [
           {
            "marker": {
             "colorbar": {
              "outlinewidth": 0,
              "ticks": ""
             }
            },
            "type": "scattergeo"
           }
          ],
          "scattergl": [
           {
            "marker": {
             "colorbar": {
              "outlinewidth": 0,
              "ticks": ""
             }
            },
            "type": "scattergl"
           }
          ],
          "scattermapbox": [
           {
            "marker": {
             "colorbar": {
              "outlinewidth": 0,
              "ticks": ""
             }
            },
            "type": "scattermapbox"
           }
          ],
          "scatterpolar": [
           {
            "marker": {
             "colorbar": {
              "outlinewidth": 0,
              "ticks": ""
             }
            },
            "type": "scatterpolar"
           }
          ],
          "scatterpolargl": [
           {
            "marker": {
             "colorbar": {
              "outlinewidth": 0,
              "ticks": ""
             }
            },
            "type": "scatterpolargl"
           }
          ],
          "scatterternary": [
           {
            "marker": {
             "colorbar": {
              "outlinewidth": 0,
              "ticks": ""
             }
            },
            "type": "scatterternary"
           }
          ],
          "surface": [
           {
            "colorbar": {
             "outlinewidth": 0,
             "ticks": ""
            },
            "colorscale": [
             [
              0,
              "#0d0887"
             ],
             [
              0.1111111111111111,
              "#46039f"
             ],
             [
              0.2222222222222222,
              "#7201a8"
             ],
             [
              0.3333333333333333,
              "#9c179e"
             ],
             [
              0.4444444444444444,
              "#bd3786"
             ],
             [
              0.5555555555555556,
              "#d8576b"
             ],
             [
              0.6666666666666666,
              "#ed7953"
             ],
             [
              0.7777777777777778,
              "#fb9f3a"
             ],
             [
              0.8888888888888888,
              "#fdca26"
             ],
             [
              1,
              "#f0f921"
             ]
            ],
            "type": "surface"
           }
          ],
          "table": [
           {
            "cells": {
             "fill": {
              "color": "#EBF0F8"
             },
             "line": {
              "color": "white"
             }
            },
            "header": {
             "fill": {
              "color": "#C8D4E3"
             },
             "line": {
              "color": "white"
             }
            },
            "type": "table"
           }
          ]
         },
         "layout": {
          "annotationdefaults": {
           "arrowcolor": "#2a3f5f",
           "arrowhead": 0,
           "arrowwidth": 1
          },
          "autotypenumbers": "strict",
          "coloraxis": {
           "colorbar": {
            "outlinewidth": 0,
            "ticks": ""
           }
          },
          "colorscale": {
           "diverging": [
            [
             0,
             "#8e0152"
            ],
            [
             0.1,
             "#c51b7d"
            ],
            [
             0.2,
             "#de77ae"
            ],
            [
             0.3,
             "#f1b6da"
            ],
            [
             0.4,
             "#fde0ef"
            ],
            [
             0.5,
             "#f7f7f7"
            ],
            [
             0.6,
             "#e6f5d0"
            ],
            [
             0.7,
             "#b8e186"
            ],
            [
             0.8,
             "#7fbc41"
            ],
            [
             0.9,
             "#4d9221"
            ],
            [
             1,
             "#276419"
            ]
           ],
           "sequential": [
            [
             0,
             "#0d0887"
            ],
            [
             0.1111111111111111,
             "#46039f"
            ],
            [
             0.2222222222222222,
             "#7201a8"
            ],
            [
             0.3333333333333333,
             "#9c179e"
            ],
            [
             0.4444444444444444,
             "#bd3786"
            ],
            [
             0.5555555555555556,
             "#d8576b"
            ],
            [
             0.6666666666666666,
             "#ed7953"
            ],
            [
             0.7777777777777778,
             "#fb9f3a"
            ],
            [
             0.8888888888888888,
             "#fdca26"
            ],
            [
             1,
             "#f0f921"
            ]
           ],
           "sequentialminus": [
            [
             0,
             "#0d0887"
            ],
            [
             0.1111111111111111,
             "#46039f"
            ],
            [
             0.2222222222222222,
             "#7201a8"
            ],
            [
             0.3333333333333333,
             "#9c179e"
            ],
            [
             0.4444444444444444,
             "#bd3786"
            ],
            [
             0.5555555555555556,
             "#d8576b"
            ],
            [
             0.6666666666666666,
             "#ed7953"
            ],
            [
             0.7777777777777778,
             "#fb9f3a"
            ],
            [
             0.8888888888888888,
             "#fdca26"
            ],
            [
             1,
             "#f0f921"
            ]
           ]
          },
          "colorway": [
           "#636efa",
           "#EF553B",
           "#00cc96",
           "#ab63fa",
           "#FFA15A",
           "#19d3f3",
           "#FF6692",
           "#B6E880",
           "#FF97FF",
           "#FECB52"
          ],
          "font": {
           "color": "#2a3f5f"
          },
          "geo": {
           "bgcolor": "white",
           "lakecolor": "white",
           "landcolor": "#E5ECF6",
           "showlakes": true,
           "showland": true,
           "subunitcolor": "white"
          },
          "hoverlabel": {
           "align": "left"
          },
          "hovermode": "closest",
          "mapbox": {
           "style": "light"
          },
          "paper_bgcolor": "white",
          "plot_bgcolor": "#E5ECF6",
          "polar": {
           "angularaxis": {
            "gridcolor": "white",
            "linecolor": "white",
            "ticks": ""
           },
           "bgcolor": "#E5ECF6",
           "radialaxis": {
            "gridcolor": "white",
            "linecolor": "white",
            "ticks": ""
           }
          },
          "scene": {
           "xaxis": {
            "backgroundcolor": "#E5ECF6",
            "gridcolor": "white",
            "gridwidth": 2,
            "linecolor": "white",
            "showbackground": true,
            "ticks": "",
            "zerolinecolor": "white"
           },
           "yaxis": {
            "backgroundcolor": "#E5ECF6",
            "gridcolor": "white",
            "gridwidth": 2,
            "linecolor": "white",
            "showbackground": true,
            "ticks": "",
            "zerolinecolor": "white"
           },
           "zaxis": {
            "backgroundcolor": "#E5ECF6",
            "gridcolor": "white",
            "gridwidth": 2,
            "linecolor": "white",
            "showbackground": true,
            "ticks": "",
            "zerolinecolor": "white"
           }
          },
          "shapedefaults": {
           "line": {
            "color": "#2a3f5f"
           }
          },
          "ternary": {
           "aaxis": {
            "gridcolor": "white",
            "linecolor": "white",
            "ticks": ""
           },
           "baxis": {
            "gridcolor": "white",
            "linecolor": "white",
            "ticks": ""
           },
           "bgcolor": "#E5ECF6",
           "caxis": {
            "gridcolor": "white",
            "linecolor": "white",
            "ticks": ""
           }
          },
          "title": {
           "x": 0.05
          },
          "xaxis": {
           "automargin": true,
           "gridcolor": "white",
           "linecolor": "white",
           "ticks": "",
           "title": {
            "standoff": 15
           },
           "zerolinecolor": "white",
           "zerolinewidth": 2
          },
          "yaxis": {
           "automargin": true,
           "gridcolor": "white",
           "linecolor": "white",
           "ticks": "",
           "title": {
            "standoff": 15
           },
           "zerolinecolor": "white",
           "zerolinewidth": 2
          }
         }
        },
        "title": {
         "text": "Ablation logit differences: Clean setting"
        },
        "width": 1400,
        "xaxis": {
         "anchor": "y",
         "domain": [
          0,
          1
         ],
         "dtick": 1,
         "range": [
          1,
          42
         ],
         "tickmode": "linear",
         "title": {
          "text": "Layer"
         }
        },
        "xaxis2": {
         "anchor": "y2",
         "domain": [
          0,
          1
         ],
         "dtick": 1,
         "range": [
          1,
          42
         ],
         "tickmode": "linear",
         "title": {
          "text": "Layer"
         }
        },
        "yaxis": {
         "anchor": "x",
         "domain": [
          0.625,
          1
         ],
         "title": {
          "text": "Logit Difference<br>(Baseline - Ablated)"
         }
        },
        "yaxis2": {
         "anchor": "x2",
         "domain": [
          0,
          0.375
         ],
         "title": {
          "text": "Logit Difference<br>(Baseline - Ablated)"
         }
        }
       }
      },
      "text/html": [
       "<div>                            <div id=\"7f9c9f79-838d-4e6d-acde-f9c9ca2179ec\" class=\"plotly-graph-div\" style=\"height:800px; width:1400px;\"></div>            <script type=\"text/javascript\">                require([\"plotly\"], function(Plotly) {                    window.PLOTLYENV=window.PLOTLYENV || {};                                    if (document.getElementById(\"7f9c9f79-838d-4e6d-acde-f9c9ca2179ec\")) {                    Plotly.newPlot(                        \"7f9c9f79-838d-4e6d-acde-f9c9ca2179ec\",                        [{\"marker\":{\"color\":\"blue\"},\"name\":\"Correct Answer Logit-Dif\",\"x\":[0,1,2,3,4,5,6,7,8,9,10,11,12,13,14,15,16,17,18,19,20,21,22,23,24,25,26,27,28,29,30,31,32,33,34,35,36,37,38,39,40,41],\"y\":[0.310546875,0.0016601562965661287,0.31328126788139343,0.11870117485523224,0.3578124940395355,-0.06625976413488388,-0.09202881157398224,0.2548828125,0.23932190239429474,0.0032226562034338713,0.42851564288139343,-0.19277344644069672,-0.234375,0.03227538987994194,-0.13447265326976776,0.6187500357627869,-0.03461303934454918,0.13886718451976776,-0.18349610269069672,0.19765625894069672,0.44257813692092896,0.4292968809604645,-0.02272949181497097,0.18193359673023224,0.02021484449505806,0.001220703125,-0.11054687947034836,-0.0073608397506177425,-0.17519532144069672,-0.01105346716940403,-0.02224121056497097,-0.19882813096046448,0.0972137451171875,-0.22617188096046448,-0.21113280951976776,-0.14765624701976776,-0.275390625,0.707812488079071,0.3687500059604645,0.02501220814883709,0.3128906190395355,-2.625],\"type\":\"bar\",\"xaxis\":\"x\",\"yaxis\":\"y\"},{\"marker\":{\"color\":\"red\"},\"name\":\"Max(Incorrect) Answer Logit-Dif\",\"x\":[0,1,2,3,4,5,6,7,8,9,10,11,12,13,14,15,16,17,18,19,20,21,22,23,24,25,26,27,28,29,30,31,32,33,34,35,36,37,38,39,40,41],\"y\":[-0.563281238079071,-0.10518798977136612,-0.8414062857627869,-0.08430176228284836,-0.6937500238418579,0.22055664658546448,0.35107421875,-0.43281251192092896,-0.3267578184604645,0.3773437440395355,-0.9609375,0.5564941763877869,0.4208984375,-0.2763671875,0.23300781846046448,-1.6203125715255737,0.22236327826976776,-0.10996093600988388,0.52734375,-0.901562511920929,-1.6640625,-0.39531251788139343,-0.75,-1.2765625715255737,-0.6039062738418579,-0.6640625,-0.850781261920929,0.11962890625,0.203125,-0.2119140625,-0.16093750298023224,-0.2855468690395355,-0.103515625,-0.1669921875,-0.09541016072034836,-0.03115234337747097,-0.3304687440395355,0.03359375149011612,-0.02436523512005806,-0.516796886920929,0.38457033038139343,-2.3031251430511475],\"type\":\"bar\",\"xaxis\":\"x\",\"yaxis\":\"y\"},{\"marker\":{\"color\":\"blue\"},\"name\":\"Correct Answer Logit-Dif\",\"showlegend\":false,\"x\":[0,1,2,3,4,5,6,7,8,9,10,11,12,13,14,15,16,17,18,19,20,21,22,23,24,25,26,27,28,29,30,31,32,33,34,35,36,37,38,39,40,41],\"y\":[0.07841797173023224,0.0966796875,0.0888671875,0.090301513671875,0.13227538764476776,0.0826416015625,0.126953125,-0.07723388820886612,-0.04877929762005806,-0.22060547769069672,0.2236328125,0.119140625,0.03818359598517418,0.13508300483226776,0.11669921875,0.201171875,0.17011718451976776,-0.00994873046875,0.09819336235523224,0.03200683742761612,-0.10078125447034836,0.11263427883386612,0.2826171815395355,0.02128906361758709,0.09156494587659836,0.23105469346046448,0.1787109375,0.11201172322034836,0.742968738079071,0.19589844346046448,-0.10927734524011612,0.14306640625,-0.044189453125,0.04887695237994194,-0.12128906697034836,0.10078125447034836,0.2451171875,0.5648437738418579,0.17011718451976776,0.3628906309604645,0.0034881592728197575,-1.345312476158142],\"type\":\"bar\",\"xaxis\":\"x2\",\"yaxis\":\"y2\"},{\"marker\":{\"color\":\"red\"},\"name\":\"Max(Incorrect) Answer Logit-Dif\",\"showlegend\":false,\"x\":[0,1,2,3,4,5,6,7,8,9,10,11,12,13,14,15,16,17,18,19,20,21,22,23,24,25,26,27,28,29,30,31,32,33,34,35,36,37,38,39,40,41],\"y\":[0.20322266221046448,-0.02573242224752903,0.0419921875,0.02750244177877903,-0.12521973252296448,-0.20839844644069672,-0.2618041932582855,0.37421876192092896,0.0526123046875,0.4283203184604645,-1.1257812976837158,-0.15189209580421448,-0.2953124940395355,-0.14272461831569672,-0.44062501192092896,-0.3921875059604645,-0.4765625,0.3980468809604645,-0.27958986163139343,0.23796387016773224,0.569140613079071,-0.24535217881202698,-0.18186035752296448,-0.8125,-0.013745117001235485,-0.871874988079071,-0.096435546875,-2.53125,-1.892187476158142,0.02724609337747097,-0.013208008371293545,-0.06187744066119194,0.013928222469985485,0.0452880859375,0.00390625,0.11650390923023224,0.12060546875,0.384765625,0.23984375596046448,0.11030273884534836,-0.10338135063648224,-1.2234375476837158],\"type\":\"bar\",\"xaxis\":\"x2\",\"yaxis\":\"y2\"}],                        {\"template\":{\"data\":{\"histogram2dcontour\":[{\"type\":\"histogram2dcontour\",\"colorbar\":{\"outlinewidth\":0,\"ticks\":\"\"},\"colorscale\":[[0.0,\"#0d0887\"],[0.1111111111111111,\"#46039f\"],[0.2222222222222222,\"#7201a8\"],[0.3333333333333333,\"#9c179e\"],[0.4444444444444444,\"#bd3786\"],[0.5555555555555556,\"#d8576b\"],[0.6666666666666666,\"#ed7953\"],[0.7777777777777778,\"#fb9f3a\"],[0.8888888888888888,\"#fdca26\"],[1.0,\"#f0f921\"]]}],\"choropleth\":[{\"type\":\"choropleth\",\"colorbar\":{\"outlinewidth\":0,\"ticks\":\"\"}}],\"histogram2d\":[{\"type\":\"histogram2d\",\"colorbar\":{\"outlinewidth\":0,\"ticks\":\"\"},\"colorscale\":[[0.0,\"#0d0887\"],[0.1111111111111111,\"#46039f\"],[0.2222222222222222,\"#7201a8\"],[0.3333333333333333,\"#9c179e\"],[0.4444444444444444,\"#bd3786\"],[0.5555555555555556,\"#d8576b\"],[0.6666666666666666,\"#ed7953\"],[0.7777777777777778,\"#fb9f3a\"],[0.8888888888888888,\"#fdca26\"],[1.0,\"#f0f921\"]]}],\"heatmap\":[{\"type\":\"heatmap\",\"colorbar\":{\"outlinewidth\":0,\"ticks\":\"\"},\"colorscale\":[[0.0,\"#0d0887\"],[0.1111111111111111,\"#46039f\"],[0.2222222222222222,\"#7201a8\"],[0.3333333333333333,\"#9c179e\"],[0.4444444444444444,\"#bd3786\"],[0.5555555555555556,\"#d8576b\"],[0.6666666666666666,\"#ed7953\"],[0.7777777777777778,\"#fb9f3a\"],[0.8888888888888888,\"#fdca26\"],[1.0,\"#f0f921\"]]}],\"heatmapgl\":[{\"type\":\"heatmapgl\",\"colorbar\":{\"outlinewidth\":0,\"ticks\":\"\"},\"colorscale\":[[0.0,\"#0d0887\"],[0.1111111111111111,\"#46039f\"],[0.2222222222222222,\"#7201a8\"],[0.3333333333333333,\"#9c179e\"],[0.4444444444444444,\"#bd3786\"],[0.5555555555555556,\"#d8576b\"],[0.6666666666666666,\"#ed7953\"],[0.7777777777777778,\"#fb9f3a\"],[0.8888888888888888,\"#fdca26\"],[1.0,\"#f0f921\"]]}],\"contourcarpet\":[{\"type\":\"contourcarpet\",\"colorbar\":{\"outlinewidth\":0,\"ticks\":\"\"}}],\"contour\":[{\"type\":\"contour\",\"colorbar\":{\"outlinewidth\":0,\"ticks\":\"\"},\"colorscale\":[[0.0,\"#0d0887\"],[0.1111111111111111,\"#46039f\"],[0.2222222222222222,\"#7201a8\"],[0.3333333333333333,\"#9c179e\"],[0.4444444444444444,\"#bd3786\"],[0.5555555555555556,\"#d8576b\"],[0.6666666666666666,\"#ed7953\"],[0.7777777777777778,\"#fb9f3a\"],[0.8888888888888888,\"#fdca26\"],[1.0,\"#f0f921\"]]}],\"surface\":[{\"type\":\"surface\",\"colorbar\":{\"outlinewidth\":0,\"ticks\":\"\"},\"colorscale\":[[0.0,\"#0d0887\"],[0.1111111111111111,\"#46039f\"],[0.2222222222222222,\"#7201a8\"],[0.3333333333333333,\"#9c179e\"],[0.4444444444444444,\"#bd3786\"],[0.5555555555555556,\"#d8576b\"],[0.6666666666666666,\"#ed7953\"],[0.7777777777777778,\"#fb9f3a\"],[0.8888888888888888,\"#fdca26\"],[1.0,\"#f0f921\"]]}],\"mesh3d\":[{\"type\":\"mesh3d\",\"colorbar\":{\"outlinewidth\":0,\"ticks\":\"\"}}],\"scatter\":[{\"fillpattern\":{\"fillmode\":\"overlay\",\"size\":10,\"solidity\":0.2},\"type\":\"scatter\"}],\"parcoords\":[{\"type\":\"parcoords\",\"line\":{\"colorbar\":{\"outlinewidth\":0,\"ticks\":\"\"}}}],\"scatterpolargl\":[{\"type\":\"scatterpolargl\",\"marker\":{\"colorbar\":{\"outlinewidth\":0,\"ticks\":\"\"}}}],\"bar\":[{\"error_x\":{\"color\":\"#2a3f5f\"},\"error_y\":{\"color\":\"#2a3f5f\"},\"marker\":{\"line\":{\"color\":\"#E5ECF6\",\"width\":0.5},\"pattern\":{\"fillmode\":\"overlay\",\"size\":10,\"solidity\":0.2}},\"type\":\"bar\"}],\"scattergeo\":[{\"type\":\"scattergeo\",\"marker\":{\"colorbar\":{\"outlinewidth\":0,\"ticks\":\"\"}}}],\"scatterpolar\":[{\"type\":\"scatterpolar\",\"marker\":{\"colorbar\":{\"outlinewidth\":0,\"ticks\":\"\"}}}],\"histogram\":[{\"marker\":{\"pattern\":{\"fillmode\":\"overlay\",\"size\":10,\"solidity\":0.2}},\"type\":\"histogram\"}],\"scattergl\":[{\"type\":\"scattergl\",\"marker\":{\"colorbar\":{\"outlinewidth\":0,\"ticks\":\"\"}}}],\"scatter3d\":[{\"type\":\"scatter3d\",\"line\":{\"colorbar\":{\"outlinewidth\":0,\"ticks\":\"\"}},\"marker\":{\"colorbar\":{\"outlinewidth\":0,\"ticks\":\"\"}}}],\"scattermapbox\":[{\"type\":\"scattermapbox\",\"marker\":{\"colorbar\":{\"outlinewidth\":0,\"ticks\":\"\"}}}],\"scatterternary\":[{\"type\":\"scatterternary\",\"marker\":{\"colorbar\":{\"outlinewidth\":0,\"ticks\":\"\"}}}],\"scattercarpet\":[{\"type\":\"scattercarpet\",\"marker\":{\"colorbar\":{\"outlinewidth\":0,\"ticks\":\"\"}}}],\"carpet\":[{\"aaxis\":{\"endlinecolor\":\"#2a3f5f\",\"gridcolor\":\"white\",\"linecolor\":\"white\",\"minorgridcolor\":\"white\",\"startlinecolor\":\"#2a3f5f\"},\"baxis\":{\"endlinecolor\":\"#2a3f5f\",\"gridcolor\":\"white\",\"linecolor\":\"white\",\"minorgridcolor\":\"white\",\"startlinecolor\":\"#2a3f5f\"},\"type\":\"carpet\"}],\"table\":[{\"cells\":{\"fill\":{\"color\":\"#EBF0F8\"},\"line\":{\"color\":\"white\"}},\"header\":{\"fill\":{\"color\":\"#C8D4E3\"},\"line\":{\"color\":\"white\"}},\"type\":\"table\"}],\"barpolar\":[{\"marker\":{\"line\":{\"color\":\"#E5ECF6\",\"width\":0.5},\"pattern\":{\"fillmode\":\"overlay\",\"size\":10,\"solidity\":0.2}},\"type\":\"barpolar\"}],\"pie\":[{\"automargin\":true,\"type\":\"pie\"}]},\"layout\":{\"autotypenumbers\":\"strict\",\"colorway\":[\"#636efa\",\"#EF553B\",\"#00cc96\",\"#ab63fa\",\"#FFA15A\",\"#19d3f3\",\"#FF6692\",\"#B6E880\",\"#FF97FF\",\"#FECB52\"],\"font\":{\"color\":\"#2a3f5f\"},\"hovermode\":\"closest\",\"hoverlabel\":{\"align\":\"left\"},\"paper_bgcolor\":\"white\",\"plot_bgcolor\":\"#E5ECF6\",\"polar\":{\"bgcolor\":\"#E5ECF6\",\"angularaxis\":{\"gridcolor\":\"white\",\"linecolor\":\"white\",\"ticks\":\"\"},\"radialaxis\":{\"gridcolor\":\"white\",\"linecolor\":\"white\",\"ticks\":\"\"}},\"ternary\":{\"bgcolor\":\"#E5ECF6\",\"aaxis\":{\"gridcolor\":\"white\",\"linecolor\":\"white\",\"ticks\":\"\"},\"baxis\":{\"gridcolor\":\"white\",\"linecolor\":\"white\",\"ticks\":\"\"},\"caxis\":{\"gridcolor\":\"white\",\"linecolor\":\"white\",\"ticks\":\"\"}},\"coloraxis\":{\"colorbar\":{\"outlinewidth\":0,\"ticks\":\"\"}},\"colorscale\":{\"sequential\":[[0.0,\"#0d0887\"],[0.1111111111111111,\"#46039f\"],[0.2222222222222222,\"#7201a8\"],[0.3333333333333333,\"#9c179e\"],[0.4444444444444444,\"#bd3786\"],[0.5555555555555556,\"#d8576b\"],[0.6666666666666666,\"#ed7953\"],[0.7777777777777778,\"#fb9f3a\"],[0.8888888888888888,\"#fdca26\"],[1.0,\"#f0f921\"]],\"sequentialminus\":[[0.0,\"#0d0887\"],[0.1111111111111111,\"#46039f\"],[0.2222222222222222,\"#7201a8\"],[0.3333333333333333,\"#9c179e\"],[0.4444444444444444,\"#bd3786\"],[0.5555555555555556,\"#d8576b\"],[0.6666666666666666,\"#ed7953\"],[0.7777777777777778,\"#fb9f3a\"],[0.8888888888888888,\"#fdca26\"],[1.0,\"#f0f921\"]],\"diverging\":[[0,\"#8e0152\"],[0.1,\"#c51b7d\"],[0.2,\"#de77ae\"],[0.3,\"#f1b6da\"],[0.4,\"#fde0ef\"],[0.5,\"#f7f7f7\"],[0.6,\"#e6f5d0\"],[0.7,\"#b8e186\"],[0.8,\"#7fbc41\"],[0.9,\"#4d9221\"],[1,\"#276419\"]]},\"xaxis\":{\"gridcolor\":\"white\",\"linecolor\":\"white\",\"ticks\":\"\",\"title\":{\"standoff\":15},\"zerolinecolor\":\"white\",\"automargin\":true,\"zerolinewidth\":2},\"yaxis\":{\"gridcolor\":\"white\",\"linecolor\":\"white\",\"ticks\":\"\",\"title\":{\"standoff\":15},\"zerolinecolor\":\"white\",\"automargin\":true,\"zerolinewidth\":2},\"scene\":{\"xaxis\":{\"backgroundcolor\":\"#E5ECF6\",\"gridcolor\":\"white\",\"linecolor\":\"white\",\"showbackground\":true,\"ticks\":\"\",\"zerolinecolor\":\"white\",\"gridwidth\":2},\"yaxis\":{\"backgroundcolor\":\"#E5ECF6\",\"gridcolor\":\"white\",\"linecolor\":\"white\",\"showbackground\":true,\"ticks\":\"\",\"zerolinecolor\":\"white\",\"gridwidth\":2},\"zaxis\":{\"backgroundcolor\":\"#E5ECF6\",\"gridcolor\":\"white\",\"linecolor\":\"white\",\"showbackground\":true,\"ticks\":\"\",\"zerolinecolor\":\"white\",\"gridwidth\":2}},\"shapedefaults\":{\"line\":{\"color\":\"#2a3f5f\"}},\"annotationdefaults\":{\"arrowcolor\":\"#2a3f5f\",\"arrowhead\":0,\"arrowwidth\":1},\"geo\":{\"bgcolor\":\"white\",\"landcolor\":\"#E5ECF6\",\"subunitcolor\":\"white\",\"showland\":true,\"showlakes\":true,\"lakecolor\":\"white\"},\"title\":{\"x\":0.05},\"mapbox\":{\"style\":\"light\"}}},\"xaxis\":{\"anchor\":\"y\",\"domain\":[0.0,1.0],\"title\":{\"text\":\"Layer\"},\"tickmode\":\"linear\",\"dtick\":1,\"range\":[1,42]},\"yaxis\":{\"anchor\":\"x\",\"domain\":[0.625,1.0],\"title\":{\"text\":\"Logit Difference\\u003cbr\\u003e(Baseline - Ablated)\"}},\"xaxis2\":{\"anchor\":\"y2\",\"domain\":[0.0,1.0],\"title\":{\"text\":\"Layer\"},\"tickmode\":\"linear\",\"dtick\":1,\"range\":[1,42]},\"yaxis2\":{\"anchor\":\"x2\",\"domain\":[0.0,0.375],\"title\":{\"text\":\"Logit Difference\\u003cbr\\u003e(Baseline - Ablated)\"}},\"annotations\":[{\"font\":{\"size\":16},\"showarrow\":false,\"text\":\"hook_mlp_out Logit Differences\",\"x\":0.5,\"xanchor\":\"center\",\"xref\":\"paper\",\"y\":1.0,\"yanchor\":\"bottom\",\"yref\":\"paper\"},{\"font\":{\"size\":16},\"showarrow\":false,\"text\":\"attn.hook_z Logit Differences\",\"x\":0.5,\"xanchor\":\"center\",\"xref\":\"paper\",\"y\":0.375,\"yanchor\":\"bottom\",\"yref\":\"paper\"}],\"title\":{\"text\":\"Ablation logit differences: Clean setting\"},\"height\":800,\"width\":1400,\"barmode\":\"group\"},                        {\"responsive\": true}                    ).then(function(){\n",
       "                            \n",
       "var gd = document.getElementById('7f9c9f79-838d-4e6d-acde-f9c9ca2179ec');\n",
       "var x = new MutationObserver(function (mutations, observer) {{\n",
       "        var display = window.getComputedStyle(gd).display;\n",
       "        if (!display || display === 'none') {{\n",
       "            console.log([gd, 'removed!']);\n",
       "            Plotly.purge(gd);\n",
       "            observer.disconnect();\n",
       "        }}\n",
       "}});\n",
       "\n",
       "// Listen for the removal of the full notebook cells\n",
       "var notebookContainer = gd.closest('#notebook-container');\n",
       "if (notebookContainer) {{\n",
       "    x.observe(notebookContainer, {childList: true});\n",
       "}}\n",
       "\n",
       "// Listen for the clearing of the current output cell\n",
       "var outputEl = gd.closest('.output');\n",
       "if (outputEl) {{\n",
       "    x.observe(outputEl, {childList: true});\n",
       "}}\n",
       "\n",
       "                        })                };                });            </script>        </div>"
      ]
     },
     "metadata": {},
     "output_type": "display_data"
    }
   ],
   "source": [
    "\n",
    "# Example usage:\n",
    "plot_logit_diffs(results, title_suffix='Clean setting')"
   ]
  },
  {
   "cell_type": "markdown",
   "metadata": {},
   "source": [
    "### Corrupted prompts"
   ]
  },
  {
   "cell_type": "code",
   "execution_count": 19,
   "metadata": {},
   "outputs": [],
   "source": [
    "clear_cache()"
   ]
  },
  {
   "cell_type": "code",
   "execution_count": 20,
   "metadata": {},
   "outputs": [
    {
     "name": "stderr",
     "output_type": "stream",
     "text": [
      "  0%|          | 0/5 [00:00<?, ?it/s]"
     ]
    },
    {
     "name": "stdout",
     "output_type": "stream",
     "text": [
      "Mean incorrect - correct difference: 1.25\n"
     ]
    },
    {
     "name": "stderr",
     "output_type": "stream",
     "text": [
      "100%|██████████| 42/42 [01:57<00:00,  2.79s/it]\n",
      " 20%|██        | 1/5 [01:58<07:55, 118.94s/it]"
     ]
    },
    {
     "name": "stdout",
     "output_type": "stream",
     "text": [
      "Mean incorrect - correct difference: 2.0\n"
     ]
    },
    {
     "name": "stderr",
     "output_type": "stream",
     "text": [
      "100%|██████████| 42/42 [01:59<00:00,  2.84s/it]\n",
      " 40%|████      | 2/5 [03:59<06:00, 120.09s/it]"
     ]
    },
    {
     "name": "stdout",
     "output_type": "stream",
     "text": [
      "Mean incorrect - correct difference: 2.125\n"
     ]
    },
    {
     "name": "stderr",
     "output_type": "stream",
     "text": [
      "100%|██████████| 42/42 [01:59<00:00,  2.85s/it]\n",
      " 60%|██████    | 3/5 [06:01<04:01, 120.64s/it]"
     ]
    },
    {
     "name": "stdout",
     "output_type": "stream",
     "text": [
      "Mean incorrect - correct difference: 1.875\n"
     ]
    },
    {
     "name": "stderr",
     "output_type": "stream",
     "text": [
      "100%|██████████| 42/42 [01:59<00:00,  2.85s/it]\n",
      " 80%|████████  | 4/5 [08:02<02:00, 120.89s/it]"
     ]
    },
    {
     "name": "stdout",
     "output_type": "stream",
     "text": [
      "Mean incorrect - correct difference: 1.25\n"
     ]
    },
    {
     "name": "stderr",
     "output_type": "stream",
     "text": [
      "100%|██████████| 42/42 [01:09<00:00,  1.66s/it]\n",
      "100%|██████████| 5/5 [09:13<00:00, 110.61s/it]\n"
     ]
    },
    {
     "data": {
      "text/plain": [
       "torch.Size([42, 2])"
      ]
     },
     "execution_count": 20,
     "metadata": {},
     "output_type": "execute_result"
    }
   ],
   "source": [
    "ablation_difs_dict = run_ablation_batch_analysis(batch_size=BATCH_SIZE, n_layers=N_LAYERS, clean_prompt_run=False)\n",
    "ablation_difs_dict['hook_mlp_out'].shape"
   ]
  },
  {
   "cell_type": "code",
   "execution_count": 21,
   "metadata": {},
   "outputs": [
    {
     "data": {
      "application/vnd.plotly.v1+json": {
       "config": {
        "plotlyServerURL": "https://plot.ly"
       },
       "data": [
        {
         "marker": {
          "color": "blue"
         },
         "name": "Correct Answer Logit-Dif",
         "type": "bar",
         "x": [
          0,
          1,
          2,
          3,
          4,
          5,
          6,
          7,
          8,
          9,
          10,
          11,
          12,
          13,
          14,
          15,
          16,
          17,
          18,
          19,
          20,
          21,
          22,
          23,
          24,
          25,
          26,
          27,
          28,
          29,
          30,
          31,
          32,
          33,
          34,
          35,
          36,
          37,
          38,
          39,
          40,
          41
         ],
         "xaxis": "x",
         "y": [
          0.30585938692092896,
          -0.29511719942092896,
          0.14750976860523224,
          0.83203125,
          1.9812500476837158,
          1.685937523841858,
          1.803125023841858,
          1.259374976158142,
          0.5121093988418579,
          3.9156250953674316,
          -0.889843761920929,
          -1.1140625476837158,
          -0.16264648735523224,
          0.526171863079071,
          -2.128124952316284,
          -0.580859363079071,
          -2.1312501430511475,
          -0.5132812857627869,
          -2.003124952316284,
          -1.1375000476837158,
          0.852343738079071,
          -0.2666992247104645,
          -1.1882812976837158,
          -0.3589843809604645,
          -1.8953125476837158,
          -1.3093750476837158,
          -0.852343738079071,
          -0.526171863079071,
          -0.2916015684604645,
          -0.65234375,
          -0.4925781190395355,
          -0.3890624940395355,
          -0.3511718809604645,
          -0.703906238079071,
          -0.30976563692092896,
          -0.23359374701976776,
          -0.2738281190395355,
          1.5500000715255737,
          0.51953125,
          -0.13935546576976776,
          0.07001953572034836,
          -2.421875
         ],
         "yaxis": "y"
        },
        {
         "marker": {
          "color": "red"
         },
         "name": "Max(Incorrect) Answer Logit-Dif",
         "type": "bar",
         "x": [
          0,
          1,
          2,
          3,
          4,
          5,
          6,
          7,
          8,
          9,
          10,
          11,
          12,
          13,
          14,
          15,
          16,
          17,
          18,
          19,
          20,
          21,
          22,
          23,
          24,
          25,
          26,
          27,
          28,
          29,
          30,
          31,
          32,
          33,
          34,
          35,
          36,
          37,
          38,
          39,
          40,
          41
         ],
         "xaxis": "x",
         "y": [
          -0.30976563692092896,
          -0.0054168701171875,
          -0.14692382514476776,
          -0.3148437440395355,
          -0.5355468988418579,
          -0.4683593809604645,
          -0.5464844107627869,
          -0.220703125,
          -0.25664064288139343,
          -0.565625011920929,
          0.4644531309604645,
          0.5367187857627869,
          0.22573243081569672,
          -0.20429687201976776,
          2.5218751430511475,
          0.930468738079071,
          2.9750001430511475,
          0.5660156607627869,
          2.7125000953674316,
          0.6910156607627869,
          -0.5218750238418579,
          0.52734375,
          0.3534179627895355,
          -0.6734375357627869,
          0.45292970538139343,
          -0.6343750357627869,
          -0.8023437857627869,
          -0.12617187201976776,
          -0.16777344048023224,
          -0.29960939288139343,
          -0.361328125,
          -0.15605469048023224,
          -0.24648438394069672,
          -0.31757813692092896,
          -0.4253906309604645,
          -0.012231445871293545,
          0.04903564602136612,
          0.4527343809604645,
          0.72265625,
          -0.07459717243909836,
          -0.06723632663488388,
          -2.424999952316284
         ],
         "yaxis": "y"
        },
        {
         "marker": {
          "color": "blue"
         },
         "name": "Correct Answer Logit-Dif",
         "showlegend": false,
         "type": "bar",
         "x": [
          0,
          1,
          2,
          3,
          4,
          5,
          6,
          7,
          8,
          9,
          10,
          11,
          12,
          13,
          14,
          15,
          16,
          17,
          18,
          19,
          20,
          21,
          22,
          23,
          24,
          25,
          26,
          27,
          28,
          29,
          30,
          31,
          32,
          33,
          34,
          35,
          36,
          37,
          38,
          39,
          40,
          41
         ],
         "xaxis": "x2",
         "y": [
          1.2687500715255737,
          -0.19863282144069672,
          0.36601564288139343,
          1.896875023841858,
          1.4375,
          0.06621094048023224,
          2.546875,
          0.874218761920929,
          0.66796875,
          -0.7757812738418579,
          0.4937500059604645,
          -0.96484375,
          -0.719921886920929,
          0.95703125,
          0.4898437559604645,
          -1.107812523841858,
          0.4095703065395355,
          -2,
          -0.7164062857627869,
          -0.7125000357627869,
          -1.5359375476837158,
          -1.764062523841858,
          -1.1140625476837158,
          -1.7578125,
          -0.4507812559604645,
          -0.3076171875,
          0.2699218690395355,
          -1.953125,
          0.29951173067092896,
          0.11884766072034836,
          -0.09663086384534836,
          0.35234376788139343,
          -0.19003906846046448,
          0.26386719942092896,
          -0.4398437440395355,
          0.18476562201976776,
          0.20429687201976776,
          0.48828125,
          0.30742189288139343,
          0.36250001192092896,
          -0.3304687440395355,
          -0.77734375
         ],
         "yaxis": "y2"
        },
        {
         "marker": {
          "color": "red"
         },
         "name": "Max(Incorrect) Answer Logit-Dif",
         "showlegend": false,
         "type": "bar",
         "x": [
          0,
          1,
          2,
          3,
          4,
          5,
          6,
          7,
          8,
          9,
          10,
          11,
          12,
          13,
          14,
          15,
          16,
          17,
          18,
          19,
          20,
          21,
          22,
          23,
          24,
          25,
          26,
          27,
          28,
          29,
          30,
          31,
          32,
          33,
          34,
          35,
          36,
          37,
          38,
          39,
          40,
          41
         ],
         "xaxis": "x2",
         "y": [
          -0.6640625,
          -0.002706909319385886,
          -0.17060546576976776,
          -0.532031238079071,
          -0.4820312559604645,
          -0.1717529296875,
          -0.774218738079071,
          -0.17021484673023224,
          -0.11845703423023224,
          0.3544921875,
          -0.6324219107627869,
          0.531054675579071,
          0.30078125,
          -0.3871093690395355,
          -0.3225952088832855,
          0.38984376192092896,
          -0.22119140625,
          2.418750047683716,
          0.21826171875,
          0.18388672173023224,
          1.5046875476837158,
          1.5031250715255737,
          1.134374976158142,
          0.43476563692092896,
          0.37421876192092896,
          -0.2645507752895355,
          -0.04975586012005806,
          -1.0031250715255737,
          0.2682128846645355,
          0.23066405951976776,
          -0.17109374701976776,
          0.24648438394069672,
          -0.02991638146340847,
          0.02969665639102459,
          -0.13916015625,
          0.10273437947034836,
          0.24570313096046448,
          0.604687511920929,
          0.15000000596046448,
          0.08681640774011612,
          -0.30546876788139343,
          -1.0578125715255737
         ],
         "yaxis": "y2"
        }
       ],
       "layout": {
        "annotations": [
         {
          "font": {
           "size": 16
          },
          "showarrow": false,
          "text": "hook_mlp_out Logit Differences",
          "x": 0.5,
          "xanchor": "center",
          "xref": "paper",
          "y": 1,
          "yanchor": "bottom",
          "yref": "paper"
         },
         {
          "font": {
           "size": 16
          },
          "showarrow": false,
          "text": "attn.hook_z Logit Differences",
          "x": 0.5,
          "xanchor": "center",
          "xref": "paper",
          "y": 0.375,
          "yanchor": "bottom",
          "yref": "paper"
         }
        ],
        "barmode": "group",
        "height": 800,
        "template": {
         "data": {
          "bar": [
           {
            "error_x": {
             "color": "#2a3f5f"
            },
            "error_y": {
             "color": "#2a3f5f"
            },
            "marker": {
             "line": {
              "color": "#E5ECF6",
              "width": 0.5
             },
             "pattern": {
              "fillmode": "overlay",
              "size": 10,
              "solidity": 0.2
             }
            },
            "type": "bar"
           }
          ],
          "barpolar": [
           {
            "marker": {
             "line": {
              "color": "#E5ECF6",
              "width": 0.5
             },
             "pattern": {
              "fillmode": "overlay",
              "size": 10,
              "solidity": 0.2
             }
            },
            "type": "barpolar"
           }
          ],
          "carpet": [
           {
            "aaxis": {
             "endlinecolor": "#2a3f5f",
             "gridcolor": "white",
             "linecolor": "white",
             "minorgridcolor": "white",
             "startlinecolor": "#2a3f5f"
            },
            "baxis": {
             "endlinecolor": "#2a3f5f",
             "gridcolor": "white",
             "linecolor": "white",
             "minorgridcolor": "white",
             "startlinecolor": "#2a3f5f"
            },
            "type": "carpet"
           }
          ],
          "choropleth": [
           {
            "colorbar": {
             "outlinewidth": 0,
             "ticks": ""
            },
            "type": "choropleth"
           }
          ],
          "contour": [
           {
            "colorbar": {
             "outlinewidth": 0,
             "ticks": ""
            },
            "colorscale": [
             [
              0,
              "#0d0887"
             ],
             [
              0.1111111111111111,
              "#46039f"
             ],
             [
              0.2222222222222222,
              "#7201a8"
             ],
             [
              0.3333333333333333,
              "#9c179e"
             ],
             [
              0.4444444444444444,
              "#bd3786"
             ],
             [
              0.5555555555555556,
              "#d8576b"
             ],
             [
              0.6666666666666666,
              "#ed7953"
             ],
             [
              0.7777777777777778,
              "#fb9f3a"
             ],
             [
              0.8888888888888888,
              "#fdca26"
             ],
             [
              1,
              "#f0f921"
             ]
            ],
            "type": "contour"
           }
          ],
          "contourcarpet": [
           {
            "colorbar": {
             "outlinewidth": 0,
             "ticks": ""
            },
            "type": "contourcarpet"
           }
          ],
          "heatmap": [
           {
            "colorbar": {
             "outlinewidth": 0,
             "ticks": ""
            },
            "colorscale": [
             [
              0,
              "#0d0887"
             ],
             [
              0.1111111111111111,
              "#46039f"
             ],
             [
              0.2222222222222222,
              "#7201a8"
             ],
             [
              0.3333333333333333,
              "#9c179e"
             ],
             [
              0.4444444444444444,
              "#bd3786"
             ],
             [
              0.5555555555555556,
              "#d8576b"
             ],
             [
              0.6666666666666666,
              "#ed7953"
             ],
             [
              0.7777777777777778,
              "#fb9f3a"
             ],
             [
              0.8888888888888888,
              "#fdca26"
             ],
             [
              1,
              "#f0f921"
             ]
            ],
            "type": "heatmap"
           }
          ],
          "heatmapgl": [
           {
            "colorbar": {
             "outlinewidth": 0,
             "ticks": ""
            },
            "colorscale": [
             [
              0,
              "#0d0887"
             ],
             [
              0.1111111111111111,
              "#46039f"
             ],
             [
              0.2222222222222222,
              "#7201a8"
             ],
             [
              0.3333333333333333,
              "#9c179e"
             ],
             [
              0.4444444444444444,
              "#bd3786"
             ],
             [
              0.5555555555555556,
              "#d8576b"
             ],
             [
              0.6666666666666666,
              "#ed7953"
             ],
             [
              0.7777777777777778,
              "#fb9f3a"
             ],
             [
              0.8888888888888888,
              "#fdca26"
             ],
             [
              1,
              "#f0f921"
             ]
            ],
            "type": "heatmapgl"
           }
          ],
          "histogram": [
           {
            "marker": {
             "pattern": {
              "fillmode": "overlay",
              "size": 10,
              "solidity": 0.2
             }
            },
            "type": "histogram"
           }
          ],
          "histogram2d": [
           {
            "colorbar": {
             "outlinewidth": 0,
             "ticks": ""
            },
            "colorscale": [
             [
              0,
              "#0d0887"
             ],
             [
              0.1111111111111111,
              "#46039f"
             ],
             [
              0.2222222222222222,
              "#7201a8"
             ],
             [
              0.3333333333333333,
              "#9c179e"
             ],
             [
              0.4444444444444444,
              "#bd3786"
             ],
             [
              0.5555555555555556,
              "#d8576b"
             ],
             [
              0.6666666666666666,
              "#ed7953"
             ],
             [
              0.7777777777777778,
              "#fb9f3a"
             ],
             [
              0.8888888888888888,
              "#fdca26"
             ],
             [
              1,
              "#f0f921"
             ]
            ],
            "type": "histogram2d"
           }
          ],
          "histogram2dcontour": [
           {
            "colorbar": {
             "outlinewidth": 0,
             "ticks": ""
            },
            "colorscale": [
             [
              0,
              "#0d0887"
             ],
             [
              0.1111111111111111,
              "#46039f"
             ],
             [
              0.2222222222222222,
              "#7201a8"
             ],
             [
              0.3333333333333333,
              "#9c179e"
             ],
             [
              0.4444444444444444,
              "#bd3786"
             ],
             [
              0.5555555555555556,
              "#d8576b"
             ],
             [
              0.6666666666666666,
              "#ed7953"
             ],
             [
              0.7777777777777778,
              "#fb9f3a"
             ],
             [
              0.8888888888888888,
              "#fdca26"
             ],
             [
              1,
              "#f0f921"
             ]
            ],
            "type": "histogram2dcontour"
           }
          ],
          "mesh3d": [
           {
            "colorbar": {
             "outlinewidth": 0,
             "ticks": ""
            },
            "type": "mesh3d"
           }
          ],
          "parcoords": [
           {
            "line": {
             "colorbar": {
              "outlinewidth": 0,
              "ticks": ""
             }
            },
            "type": "parcoords"
           }
          ],
          "pie": [
           {
            "automargin": true,
            "type": "pie"
           }
          ],
          "scatter": [
           {
            "fillpattern": {
             "fillmode": "overlay",
             "size": 10,
             "solidity": 0.2
            },
            "type": "scatter"
           }
          ],
          "scatter3d": [
           {
            "line": {
             "colorbar": {
              "outlinewidth": 0,
              "ticks": ""
             }
            },
            "marker": {
             "colorbar": {
              "outlinewidth": 0,
              "ticks": ""
             }
            },
            "type": "scatter3d"
           }
          ],
          "scattercarpet": [
           {
            "marker": {
             "colorbar": {
              "outlinewidth": 0,
              "ticks": ""
             }
            },
            "type": "scattercarpet"
           }
          ],
          "scattergeo": [
           {
            "marker": {
             "colorbar": {
              "outlinewidth": 0,
              "ticks": ""
             }
            },
            "type": "scattergeo"
           }
          ],
          "scattergl": [
           {
            "marker": {
             "colorbar": {
              "outlinewidth": 0,
              "ticks": ""
             }
            },
            "type": "scattergl"
           }
          ],
          "scattermapbox": [
           {
            "marker": {
             "colorbar": {
              "outlinewidth": 0,
              "ticks": ""
             }
            },
            "type": "scattermapbox"
           }
          ],
          "scatterpolar": [
           {
            "marker": {
             "colorbar": {
              "outlinewidth": 0,
              "ticks": ""
             }
            },
            "type": "scatterpolar"
           }
          ],
          "scatterpolargl": [
           {
            "marker": {
             "colorbar": {
              "outlinewidth": 0,
              "ticks": ""
             }
            },
            "type": "scatterpolargl"
           }
          ],
          "scatterternary": [
           {
            "marker": {
             "colorbar": {
              "outlinewidth": 0,
              "ticks": ""
             }
            },
            "type": "scatterternary"
           }
          ],
          "surface": [
           {
            "colorbar": {
             "outlinewidth": 0,
             "ticks": ""
            },
            "colorscale": [
             [
              0,
              "#0d0887"
             ],
             [
              0.1111111111111111,
              "#46039f"
             ],
             [
              0.2222222222222222,
              "#7201a8"
             ],
             [
              0.3333333333333333,
              "#9c179e"
             ],
             [
              0.4444444444444444,
              "#bd3786"
             ],
             [
              0.5555555555555556,
              "#d8576b"
             ],
             [
              0.6666666666666666,
              "#ed7953"
             ],
             [
              0.7777777777777778,
              "#fb9f3a"
             ],
             [
              0.8888888888888888,
              "#fdca26"
             ],
             [
              1,
              "#f0f921"
             ]
            ],
            "type": "surface"
           }
          ],
          "table": [
           {
            "cells": {
             "fill": {
              "color": "#EBF0F8"
             },
             "line": {
              "color": "white"
             }
            },
            "header": {
             "fill": {
              "color": "#C8D4E3"
             },
             "line": {
              "color": "white"
             }
            },
            "type": "table"
           }
          ]
         },
         "layout": {
          "annotationdefaults": {
           "arrowcolor": "#2a3f5f",
           "arrowhead": 0,
           "arrowwidth": 1
          },
          "autotypenumbers": "strict",
          "coloraxis": {
           "colorbar": {
            "outlinewidth": 0,
            "ticks": ""
           }
          },
          "colorscale": {
           "diverging": [
            [
             0,
             "#8e0152"
            ],
            [
             0.1,
             "#c51b7d"
            ],
            [
             0.2,
             "#de77ae"
            ],
            [
             0.3,
             "#f1b6da"
            ],
            [
             0.4,
             "#fde0ef"
            ],
            [
             0.5,
             "#f7f7f7"
            ],
            [
             0.6,
             "#e6f5d0"
            ],
            [
             0.7,
             "#b8e186"
            ],
            [
             0.8,
             "#7fbc41"
            ],
            [
             0.9,
             "#4d9221"
            ],
            [
             1,
             "#276419"
            ]
           ],
           "sequential": [
            [
             0,
             "#0d0887"
            ],
            [
             0.1111111111111111,
             "#46039f"
            ],
            [
             0.2222222222222222,
             "#7201a8"
            ],
            [
             0.3333333333333333,
             "#9c179e"
            ],
            [
             0.4444444444444444,
             "#bd3786"
            ],
            [
             0.5555555555555556,
             "#d8576b"
            ],
            [
             0.6666666666666666,
             "#ed7953"
            ],
            [
             0.7777777777777778,
             "#fb9f3a"
            ],
            [
             0.8888888888888888,
             "#fdca26"
            ],
            [
             1,
             "#f0f921"
            ]
           ],
           "sequentialminus": [
            [
             0,
             "#0d0887"
            ],
            [
             0.1111111111111111,
             "#46039f"
            ],
            [
             0.2222222222222222,
             "#7201a8"
            ],
            [
             0.3333333333333333,
             "#9c179e"
            ],
            [
             0.4444444444444444,
             "#bd3786"
            ],
            [
             0.5555555555555556,
             "#d8576b"
            ],
            [
             0.6666666666666666,
             "#ed7953"
            ],
            [
             0.7777777777777778,
             "#fb9f3a"
            ],
            [
             0.8888888888888888,
             "#fdca26"
            ],
            [
             1,
             "#f0f921"
            ]
           ]
          },
          "colorway": [
           "#636efa",
           "#EF553B",
           "#00cc96",
           "#ab63fa",
           "#FFA15A",
           "#19d3f3",
           "#FF6692",
           "#B6E880",
           "#FF97FF",
           "#FECB52"
          ],
          "font": {
           "color": "#2a3f5f"
          },
          "geo": {
           "bgcolor": "white",
           "lakecolor": "white",
           "landcolor": "#E5ECF6",
           "showlakes": true,
           "showland": true,
           "subunitcolor": "white"
          },
          "hoverlabel": {
           "align": "left"
          },
          "hovermode": "closest",
          "mapbox": {
           "style": "light"
          },
          "paper_bgcolor": "white",
          "plot_bgcolor": "#E5ECF6",
          "polar": {
           "angularaxis": {
            "gridcolor": "white",
            "linecolor": "white",
            "ticks": ""
           },
           "bgcolor": "#E5ECF6",
           "radialaxis": {
            "gridcolor": "white",
            "linecolor": "white",
            "ticks": ""
           }
          },
          "scene": {
           "xaxis": {
            "backgroundcolor": "#E5ECF6",
            "gridcolor": "white",
            "gridwidth": 2,
            "linecolor": "white",
            "showbackground": true,
            "ticks": "",
            "zerolinecolor": "white"
           },
           "yaxis": {
            "backgroundcolor": "#E5ECF6",
            "gridcolor": "white",
            "gridwidth": 2,
            "linecolor": "white",
            "showbackground": true,
            "ticks": "",
            "zerolinecolor": "white"
           },
           "zaxis": {
            "backgroundcolor": "#E5ECF6",
            "gridcolor": "white",
            "gridwidth": 2,
            "linecolor": "white",
            "showbackground": true,
            "ticks": "",
            "zerolinecolor": "white"
           }
          },
          "shapedefaults": {
           "line": {
            "color": "#2a3f5f"
           }
          },
          "ternary": {
           "aaxis": {
            "gridcolor": "white",
            "linecolor": "white",
            "ticks": ""
           },
           "baxis": {
            "gridcolor": "white",
            "linecolor": "white",
            "ticks": ""
           },
           "bgcolor": "#E5ECF6",
           "caxis": {
            "gridcolor": "white",
            "linecolor": "white",
            "ticks": ""
           }
          },
          "title": {
           "x": 0.05
          },
          "xaxis": {
           "automargin": true,
           "gridcolor": "white",
           "linecolor": "white",
           "ticks": "",
           "title": {
            "standoff": 15
           },
           "zerolinecolor": "white",
           "zerolinewidth": 2
          },
          "yaxis": {
           "automargin": true,
           "gridcolor": "white",
           "linecolor": "white",
           "ticks": "",
           "title": {
            "standoff": 15
           },
           "zerolinecolor": "white",
           "zerolinewidth": 2
          }
         }
        },
        "title": {
         "text": "Ablation logit differences: Corrupted setting"
        },
        "width": 1400,
        "xaxis": {
         "anchor": "y",
         "domain": [
          0,
          1
         ],
         "dtick": 1,
         "range": [
          1,
          42
         ],
         "tickmode": "linear",
         "title": {
          "text": "Layer"
         }
        },
        "xaxis2": {
         "anchor": "y2",
         "domain": [
          0,
          1
         ],
         "dtick": 1,
         "range": [
          1,
          42
         ],
         "tickmode": "linear",
         "title": {
          "text": "Layer"
         }
        },
        "yaxis": {
         "anchor": "x",
         "domain": [
          0.625,
          1
         ],
         "title": {
          "text": "Logit Difference<br>(Baseline - Ablated)"
         }
        },
        "yaxis2": {
         "anchor": "x2",
         "domain": [
          0,
          0.375
         ],
         "title": {
          "text": "Logit Difference<br>(Baseline - Ablated)"
         }
        }
       }
      },
      "text/html": [
       "<div>                            <div id=\"eefeb139-85db-4518-b00f-b7608fa91fbe\" class=\"plotly-graph-div\" style=\"height:800px; width:1400px;\"></div>            <script type=\"text/javascript\">                require([\"plotly\"], function(Plotly) {                    window.PLOTLYENV=window.PLOTLYENV || {};                                    if (document.getElementById(\"eefeb139-85db-4518-b00f-b7608fa91fbe\")) {                    Plotly.newPlot(                        \"eefeb139-85db-4518-b00f-b7608fa91fbe\",                        [{\"marker\":{\"color\":\"blue\"},\"name\":\"Correct Answer Logit-Dif\",\"x\":[0,1,2,3,4,5,6,7,8,9,10,11,12,13,14,15,16,17,18,19,20,21,22,23,24,25,26,27,28,29,30,31,32,33,34,35,36,37,38,39,40,41],\"y\":[0.30585938692092896,-0.29511719942092896,0.14750976860523224,0.83203125,1.9812500476837158,1.685937523841858,1.803125023841858,1.259374976158142,0.5121093988418579,3.9156250953674316,-0.889843761920929,-1.1140625476837158,-0.16264648735523224,0.526171863079071,-2.128124952316284,-0.580859363079071,-2.1312501430511475,-0.5132812857627869,-2.003124952316284,-1.1375000476837158,0.852343738079071,-0.2666992247104645,-1.1882812976837158,-0.3589843809604645,-1.8953125476837158,-1.3093750476837158,-0.852343738079071,-0.526171863079071,-0.2916015684604645,-0.65234375,-0.4925781190395355,-0.3890624940395355,-0.3511718809604645,-0.703906238079071,-0.30976563692092896,-0.23359374701976776,-0.2738281190395355,1.5500000715255737,0.51953125,-0.13935546576976776,0.07001953572034836,-2.421875],\"type\":\"bar\",\"xaxis\":\"x\",\"yaxis\":\"y\"},{\"marker\":{\"color\":\"red\"},\"name\":\"Max(Incorrect) Answer Logit-Dif\",\"x\":[0,1,2,3,4,5,6,7,8,9,10,11,12,13,14,15,16,17,18,19,20,21,22,23,24,25,26,27,28,29,30,31,32,33,34,35,36,37,38,39,40,41],\"y\":[-0.30976563692092896,-0.0054168701171875,-0.14692382514476776,-0.3148437440395355,-0.5355468988418579,-0.4683593809604645,-0.5464844107627869,-0.220703125,-0.25664064288139343,-0.565625011920929,0.4644531309604645,0.5367187857627869,0.22573243081569672,-0.20429687201976776,2.5218751430511475,0.930468738079071,2.9750001430511475,0.5660156607627869,2.7125000953674316,0.6910156607627869,-0.5218750238418579,0.52734375,0.3534179627895355,-0.6734375357627869,0.45292970538139343,-0.6343750357627869,-0.8023437857627869,-0.12617187201976776,-0.16777344048023224,-0.29960939288139343,-0.361328125,-0.15605469048023224,-0.24648438394069672,-0.31757813692092896,-0.4253906309604645,-0.012231445871293545,0.04903564602136612,0.4527343809604645,0.72265625,-0.07459717243909836,-0.06723632663488388,-2.424999952316284],\"type\":\"bar\",\"xaxis\":\"x\",\"yaxis\":\"y\"},{\"marker\":{\"color\":\"blue\"},\"name\":\"Correct Answer Logit-Dif\",\"showlegend\":false,\"x\":[0,1,2,3,4,5,6,7,8,9,10,11,12,13,14,15,16,17,18,19,20,21,22,23,24,25,26,27,28,29,30,31,32,33,34,35,36,37,38,39,40,41],\"y\":[1.2687500715255737,-0.19863282144069672,0.36601564288139343,1.896875023841858,1.4375,0.06621094048023224,2.546875,0.874218761920929,0.66796875,-0.7757812738418579,0.4937500059604645,-0.96484375,-0.719921886920929,0.95703125,0.4898437559604645,-1.107812523841858,0.4095703065395355,-2.0,-0.7164062857627869,-0.7125000357627869,-1.5359375476837158,-1.764062523841858,-1.1140625476837158,-1.7578125,-0.4507812559604645,-0.3076171875,0.2699218690395355,-1.953125,0.29951173067092896,0.11884766072034836,-0.09663086384534836,0.35234376788139343,-0.19003906846046448,0.26386719942092896,-0.4398437440395355,0.18476562201976776,0.20429687201976776,0.48828125,0.30742189288139343,0.36250001192092896,-0.3304687440395355,-0.77734375],\"type\":\"bar\",\"xaxis\":\"x2\",\"yaxis\":\"y2\"},{\"marker\":{\"color\":\"red\"},\"name\":\"Max(Incorrect) Answer Logit-Dif\",\"showlegend\":false,\"x\":[0,1,2,3,4,5,6,7,8,9,10,11,12,13,14,15,16,17,18,19,20,21,22,23,24,25,26,27,28,29,30,31,32,33,34,35,36,37,38,39,40,41],\"y\":[-0.6640625,-0.002706909319385886,-0.17060546576976776,-0.532031238079071,-0.4820312559604645,-0.1717529296875,-0.774218738079071,-0.17021484673023224,-0.11845703423023224,0.3544921875,-0.6324219107627869,0.531054675579071,0.30078125,-0.3871093690395355,-0.3225952088832855,0.38984376192092896,-0.22119140625,2.418750047683716,0.21826171875,0.18388672173023224,1.5046875476837158,1.5031250715255737,1.134374976158142,0.43476563692092896,0.37421876192092896,-0.2645507752895355,-0.04975586012005806,-1.0031250715255737,0.2682128846645355,0.23066405951976776,-0.17109374701976776,0.24648438394069672,-0.02991638146340847,0.02969665639102459,-0.13916015625,0.10273437947034836,0.24570313096046448,0.604687511920929,0.15000000596046448,0.08681640774011612,-0.30546876788139343,-1.0578125715255737],\"type\":\"bar\",\"xaxis\":\"x2\",\"yaxis\":\"y2\"}],                        {\"template\":{\"data\":{\"histogram2dcontour\":[{\"type\":\"histogram2dcontour\",\"colorbar\":{\"outlinewidth\":0,\"ticks\":\"\"},\"colorscale\":[[0.0,\"#0d0887\"],[0.1111111111111111,\"#46039f\"],[0.2222222222222222,\"#7201a8\"],[0.3333333333333333,\"#9c179e\"],[0.4444444444444444,\"#bd3786\"],[0.5555555555555556,\"#d8576b\"],[0.6666666666666666,\"#ed7953\"],[0.7777777777777778,\"#fb9f3a\"],[0.8888888888888888,\"#fdca26\"],[1.0,\"#f0f921\"]]}],\"choropleth\":[{\"type\":\"choropleth\",\"colorbar\":{\"outlinewidth\":0,\"ticks\":\"\"}}],\"histogram2d\":[{\"type\":\"histogram2d\",\"colorbar\":{\"outlinewidth\":0,\"ticks\":\"\"},\"colorscale\":[[0.0,\"#0d0887\"],[0.1111111111111111,\"#46039f\"],[0.2222222222222222,\"#7201a8\"],[0.3333333333333333,\"#9c179e\"],[0.4444444444444444,\"#bd3786\"],[0.5555555555555556,\"#d8576b\"],[0.6666666666666666,\"#ed7953\"],[0.7777777777777778,\"#fb9f3a\"],[0.8888888888888888,\"#fdca26\"],[1.0,\"#f0f921\"]]}],\"heatmap\":[{\"type\":\"heatmap\",\"colorbar\":{\"outlinewidth\":0,\"ticks\":\"\"},\"colorscale\":[[0.0,\"#0d0887\"],[0.1111111111111111,\"#46039f\"],[0.2222222222222222,\"#7201a8\"],[0.3333333333333333,\"#9c179e\"],[0.4444444444444444,\"#bd3786\"],[0.5555555555555556,\"#d8576b\"],[0.6666666666666666,\"#ed7953\"],[0.7777777777777778,\"#fb9f3a\"],[0.8888888888888888,\"#fdca26\"],[1.0,\"#f0f921\"]]}],\"heatmapgl\":[{\"type\":\"heatmapgl\",\"colorbar\":{\"outlinewidth\":0,\"ticks\":\"\"},\"colorscale\":[[0.0,\"#0d0887\"],[0.1111111111111111,\"#46039f\"],[0.2222222222222222,\"#7201a8\"],[0.3333333333333333,\"#9c179e\"],[0.4444444444444444,\"#bd3786\"],[0.5555555555555556,\"#d8576b\"],[0.6666666666666666,\"#ed7953\"],[0.7777777777777778,\"#fb9f3a\"],[0.8888888888888888,\"#fdca26\"],[1.0,\"#f0f921\"]]}],\"contourcarpet\":[{\"type\":\"contourcarpet\",\"colorbar\":{\"outlinewidth\":0,\"ticks\":\"\"}}],\"contour\":[{\"type\":\"contour\",\"colorbar\":{\"outlinewidth\":0,\"ticks\":\"\"},\"colorscale\":[[0.0,\"#0d0887\"],[0.1111111111111111,\"#46039f\"],[0.2222222222222222,\"#7201a8\"],[0.3333333333333333,\"#9c179e\"],[0.4444444444444444,\"#bd3786\"],[0.5555555555555556,\"#d8576b\"],[0.6666666666666666,\"#ed7953\"],[0.7777777777777778,\"#fb9f3a\"],[0.8888888888888888,\"#fdca26\"],[1.0,\"#f0f921\"]]}],\"surface\":[{\"type\":\"surface\",\"colorbar\":{\"outlinewidth\":0,\"ticks\":\"\"},\"colorscale\":[[0.0,\"#0d0887\"],[0.1111111111111111,\"#46039f\"],[0.2222222222222222,\"#7201a8\"],[0.3333333333333333,\"#9c179e\"],[0.4444444444444444,\"#bd3786\"],[0.5555555555555556,\"#d8576b\"],[0.6666666666666666,\"#ed7953\"],[0.7777777777777778,\"#fb9f3a\"],[0.8888888888888888,\"#fdca26\"],[1.0,\"#f0f921\"]]}],\"mesh3d\":[{\"type\":\"mesh3d\",\"colorbar\":{\"outlinewidth\":0,\"ticks\":\"\"}}],\"scatter\":[{\"fillpattern\":{\"fillmode\":\"overlay\",\"size\":10,\"solidity\":0.2},\"type\":\"scatter\"}],\"parcoords\":[{\"type\":\"parcoords\",\"line\":{\"colorbar\":{\"outlinewidth\":0,\"ticks\":\"\"}}}],\"scatterpolargl\":[{\"type\":\"scatterpolargl\",\"marker\":{\"colorbar\":{\"outlinewidth\":0,\"ticks\":\"\"}}}],\"bar\":[{\"error_x\":{\"color\":\"#2a3f5f\"},\"error_y\":{\"color\":\"#2a3f5f\"},\"marker\":{\"line\":{\"color\":\"#E5ECF6\",\"width\":0.5},\"pattern\":{\"fillmode\":\"overlay\",\"size\":10,\"solidity\":0.2}},\"type\":\"bar\"}],\"scattergeo\":[{\"type\":\"scattergeo\",\"marker\":{\"colorbar\":{\"outlinewidth\":0,\"ticks\":\"\"}}}],\"scatterpolar\":[{\"type\":\"scatterpolar\",\"marker\":{\"colorbar\":{\"outlinewidth\":0,\"ticks\":\"\"}}}],\"histogram\":[{\"marker\":{\"pattern\":{\"fillmode\":\"overlay\",\"size\":10,\"solidity\":0.2}},\"type\":\"histogram\"}],\"scattergl\":[{\"type\":\"scattergl\",\"marker\":{\"colorbar\":{\"outlinewidth\":0,\"ticks\":\"\"}}}],\"scatter3d\":[{\"type\":\"scatter3d\",\"line\":{\"colorbar\":{\"outlinewidth\":0,\"ticks\":\"\"}},\"marker\":{\"colorbar\":{\"outlinewidth\":0,\"ticks\":\"\"}}}],\"scattermapbox\":[{\"type\":\"scattermapbox\",\"marker\":{\"colorbar\":{\"outlinewidth\":0,\"ticks\":\"\"}}}],\"scatterternary\":[{\"type\":\"scatterternary\",\"marker\":{\"colorbar\":{\"outlinewidth\":0,\"ticks\":\"\"}}}],\"scattercarpet\":[{\"type\":\"scattercarpet\",\"marker\":{\"colorbar\":{\"outlinewidth\":0,\"ticks\":\"\"}}}],\"carpet\":[{\"aaxis\":{\"endlinecolor\":\"#2a3f5f\",\"gridcolor\":\"white\",\"linecolor\":\"white\",\"minorgridcolor\":\"white\",\"startlinecolor\":\"#2a3f5f\"},\"baxis\":{\"endlinecolor\":\"#2a3f5f\",\"gridcolor\":\"white\",\"linecolor\":\"white\",\"minorgridcolor\":\"white\",\"startlinecolor\":\"#2a3f5f\"},\"type\":\"carpet\"}],\"table\":[{\"cells\":{\"fill\":{\"color\":\"#EBF0F8\"},\"line\":{\"color\":\"white\"}},\"header\":{\"fill\":{\"color\":\"#C8D4E3\"},\"line\":{\"color\":\"white\"}},\"type\":\"table\"}],\"barpolar\":[{\"marker\":{\"line\":{\"color\":\"#E5ECF6\",\"width\":0.5},\"pattern\":{\"fillmode\":\"overlay\",\"size\":10,\"solidity\":0.2}},\"type\":\"barpolar\"}],\"pie\":[{\"automargin\":true,\"type\":\"pie\"}]},\"layout\":{\"autotypenumbers\":\"strict\",\"colorway\":[\"#636efa\",\"#EF553B\",\"#00cc96\",\"#ab63fa\",\"#FFA15A\",\"#19d3f3\",\"#FF6692\",\"#B6E880\",\"#FF97FF\",\"#FECB52\"],\"font\":{\"color\":\"#2a3f5f\"},\"hovermode\":\"closest\",\"hoverlabel\":{\"align\":\"left\"},\"paper_bgcolor\":\"white\",\"plot_bgcolor\":\"#E5ECF6\",\"polar\":{\"bgcolor\":\"#E5ECF6\",\"angularaxis\":{\"gridcolor\":\"white\",\"linecolor\":\"white\",\"ticks\":\"\"},\"radialaxis\":{\"gridcolor\":\"white\",\"linecolor\":\"white\",\"ticks\":\"\"}},\"ternary\":{\"bgcolor\":\"#E5ECF6\",\"aaxis\":{\"gridcolor\":\"white\",\"linecolor\":\"white\",\"ticks\":\"\"},\"baxis\":{\"gridcolor\":\"white\",\"linecolor\":\"white\",\"ticks\":\"\"},\"caxis\":{\"gridcolor\":\"white\",\"linecolor\":\"white\",\"ticks\":\"\"}},\"coloraxis\":{\"colorbar\":{\"outlinewidth\":0,\"ticks\":\"\"}},\"colorscale\":{\"sequential\":[[0.0,\"#0d0887\"],[0.1111111111111111,\"#46039f\"],[0.2222222222222222,\"#7201a8\"],[0.3333333333333333,\"#9c179e\"],[0.4444444444444444,\"#bd3786\"],[0.5555555555555556,\"#d8576b\"],[0.6666666666666666,\"#ed7953\"],[0.7777777777777778,\"#fb9f3a\"],[0.8888888888888888,\"#fdca26\"],[1.0,\"#f0f921\"]],\"sequentialminus\":[[0.0,\"#0d0887\"],[0.1111111111111111,\"#46039f\"],[0.2222222222222222,\"#7201a8\"],[0.3333333333333333,\"#9c179e\"],[0.4444444444444444,\"#bd3786\"],[0.5555555555555556,\"#d8576b\"],[0.6666666666666666,\"#ed7953\"],[0.7777777777777778,\"#fb9f3a\"],[0.8888888888888888,\"#fdca26\"],[1.0,\"#f0f921\"]],\"diverging\":[[0,\"#8e0152\"],[0.1,\"#c51b7d\"],[0.2,\"#de77ae\"],[0.3,\"#f1b6da\"],[0.4,\"#fde0ef\"],[0.5,\"#f7f7f7\"],[0.6,\"#e6f5d0\"],[0.7,\"#b8e186\"],[0.8,\"#7fbc41\"],[0.9,\"#4d9221\"],[1,\"#276419\"]]},\"xaxis\":{\"gridcolor\":\"white\",\"linecolor\":\"white\",\"ticks\":\"\",\"title\":{\"standoff\":15},\"zerolinecolor\":\"white\",\"automargin\":true,\"zerolinewidth\":2},\"yaxis\":{\"gridcolor\":\"white\",\"linecolor\":\"white\",\"ticks\":\"\",\"title\":{\"standoff\":15},\"zerolinecolor\":\"white\",\"automargin\":true,\"zerolinewidth\":2},\"scene\":{\"xaxis\":{\"backgroundcolor\":\"#E5ECF6\",\"gridcolor\":\"white\",\"linecolor\":\"white\",\"showbackground\":true,\"ticks\":\"\",\"zerolinecolor\":\"white\",\"gridwidth\":2},\"yaxis\":{\"backgroundcolor\":\"#E5ECF6\",\"gridcolor\":\"white\",\"linecolor\":\"white\",\"showbackground\":true,\"ticks\":\"\",\"zerolinecolor\":\"white\",\"gridwidth\":2},\"zaxis\":{\"backgroundcolor\":\"#E5ECF6\",\"gridcolor\":\"white\",\"linecolor\":\"white\",\"showbackground\":true,\"ticks\":\"\",\"zerolinecolor\":\"white\",\"gridwidth\":2}},\"shapedefaults\":{\"line\":{\"color\":\"#2a3f5f\"}},\"annotationdefaults\":{\"arrowcolor\":\"#2a3f5f\",\"arrowhead\":0,\"arrowwidth\":1},\"geo\":{\"bgcolor\":\"white\",\"landcolor\":\"#E5ECF6\",\"subunitcolor\":\"white\",\"showland\":true,\"showlakes\":true,\"lakecolor\":\"white\"},\"title\":{\"x\":0.05},\"mapbox\":{\"style\":\"light\"}}},\"xaxis\":{\"anchor\":\"y\",\"domain\":[0.0,1.0],\"title\":{\"text\":\"Layer\"},\"tickmode\":\"linear\",\"dtick\":1,\"range\":[1,42]},\"yaxis\":{\"anchor\":\"x\",\"domain\":[0.625,1.0],\"title\":{\"text\":\"Logit Difference\\u003cbr\\u003e(Baseline - Ablated)\"}},\"xaxis2\":{\"anchor\":\"y2\",\"domain\":[0.0,1.0],\"title\":{\"text\":\"Layer\"},\"tickmode\":\"linear\",\"dtick\":1,\"range\":[1,42]},\"yaxis2\":{\"anchor\":\"x2\",\"domain\":[0.0,0.375],\"title\":{\"text\":\"Logit Difference\\u003cbr\\u003e(Baseline - Ablated)\"}},\"annotations\":[{\"font\":{\"size\":16},\"showarrow\":false,\"text\":\"hook_mlp_out Logit Differences\",\"x\":0.5,\"xanchor\":\"center\",\"xref\":\"paper\",\"y\":1.0,\"yanchor\":\"bottom\",\"yref\":\"paper\"},{\"font\":{\"size\":16},\"showarrow\":false,\"text\":\"attn.hook_z Logit Differences\",\"x\":0.5,\"xanchor\":\"center\",\"xref\":\"paper\",\"y\":0.375,\"yanchor\":\"bottom\",\"yref\":\"paper\"}],\"title\":{\"text\":\"Ablation logit differences: Corrupted setting\"},\"height\":800,\"width\":1400,\"barmode\":\"group\"},                        {\"responsive\": true}                    ).then(function(){\n",
       "                            \n",
       "var gd = document.getElementById('eefeb139-85db-4518-b00f-b7608fa91fbe');\n",
       "var x = new MutationObserver(function (mutations, observer) {{\n",
       "        var display = window.getComputedStyle(gd).display;\n",
       "        if (!display || display === 'none') {{\n",
       "            console.log([gd, 'removed!']);\n",
       "            Plotly.purge(gd);\n",
       "            observer.disconnect();\n",
       "        }}\n",
       "}});\n",
       "\n",
       "// Listen for the removal of the full notebook cells\n",
       "var notebookContainer = gd.closest('#notebook-container');\n",
       "if (notebookContainer) {{\n",
       "    x.observe(notebookContainer, {childList: true});\n",
       "}}\n",
       "\n",
       "// Listen for the clearing of the current output cell\n",
       "var outputEl = gd.closest('.output');\n",
       "if (outputEl) {{\n",
       "    x.observe(outputEl, {childList: true});\n",
       "}}\n",
       "\n",
       "                        })                };                });            </script>        </div>"
      ]
     },
     "metadata": {},
     "output_type": "display_data"
    }
   ],
   "source": [
    "results = []\n",
    "\n",
    "for hook_type in HOOK_TYPES:\n",
    "    for layer in range(N_LAYERS):\n",
    "        result = {\n",
    "            'layer': layer,\n",
    "            'hook_type': hook_type,\n",
    "            'logit_diffs': ablation_difs_dict[hook_type][layer].cpu().numpy(),\n",
    "        }\n",
    "        results.append(result)\n",
    "\n",
    "plot_logit_diffs(results, title_suffix='Corrupted setting')"
   ]
  },
  {
   "cell_type": "code",
   "execution_count": null,
   "metadata": {},
   "outputs": [],
   "source": []
  }
 ],
 "metadata": {
  "kernelspec": {
   "display_name": "Python 3",
   "language": "python",
   "name": "python3"
  },
  "language_info": {
   "codemirror_mode": {
    "name": "ipython",
    "version": 3
   },
   "file_extension": ".py",
   "mimetype": "text/x-python",
   "name": "python",
   "nbconvert_exporter": "python",
   "pygments_lexer": "ipython3",
   "version": "3.10.12"
  }
 },
 "nbformat": 4,
 "nbformat_minor": 2
}
